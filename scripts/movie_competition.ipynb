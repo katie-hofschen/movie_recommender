{
 "cells": [
  {
   "cell_type": "code",
   "execution_count": 1,
   "metadata": {
    "collapsed": true,
    "pycharm": {
     "is_executing": false
    }
   },
   "outputs": [],
   "source": [
    "import pandas as pd\n",
    "import numpy as np\n",
    "\n",
    "from surprise import Reader\n",
    "from surprise import Dataset\n",
    "from surprise import SVD\n"
   ]
  },
  {
   "cell_type": "code",
   "execution_count": 2,
   "outputs": [
    {
     "data": {
      "text/plain": "   userID  itemID  rating\n0       1     919       4\n1       1     608       4\n2       1    2797       4\n3       1    1545       4\n4       1     594       4",
      "text/html": "<div>\n<style scoped>\n    .dataframe tbody tr th:only-of-type {\n        vertical-align: middle;\n    }\n\n    .dataframe tbody tr th {\n        vertical-align: top;\n    }\n\n    .dataframe thead th {\n        text-align: right;\n    }\n</style>\n<table border=\"1\" class=\"dataframe\">\n  <thead>\n    <tr style=\"text-align: right;\">\n      <th></th>\n      <th>userID</th>\n      <th>itemID</th>\n      <th>rating</th>\n    </tr>\n  </thead>\n  <tbody>\n    <tr>\n      <th>0</th>\n      <td>1</td>\n      <td>919</td>\n      <td>4</td>\n    </tr>\n    <tr>\n      <th>1</th>\n      <td>1</td>\n      <td>608</td>\n      <td>4</td>\n    </tr>\n    <tr>\n      <th>2</th>\n      <td>1</td>\n      <td>2797</td>\n      <td>4</td>\n    </tr>\n    <tr>\n      <th>3</th>\n      <td>1</td>\n      <td>1545</td>\n      <td>4</td>\n    </tr>\n    <tr>\n      <th>4</th>\n      <td>1</td>\n      <td>594</td>\n      <td>4</td>\n    </tr>\n  </tbody>\n</table>\n</div>"
     },
     "metadata": {},
     "output_type": "execute_result",
     "execution_count": 2
    }
   ],
   "source": [
    "train_data = pd.read_csv(\"../data/train-PDA2019.csv\")\n",
    "train_data.columns = [\"userID\", \"itemID\", \"rating\",\"timeStamp\"]\n",
    "train_data = train_data.sort_values(\"userID\").reset_index(drop=True)\n",
    "train_data = train_data.iloc[:,0:3]\n",
    "train_data.head()"
   ],
   "metadata": {
    "collapsed": false,
    "pycharm": {
     "name": "#%%\n",
     "is_executing": false
    }
   }
  },
  {
   "cell_type": "code",
   "execution_count": 3,
   "outputs": [],
   "source": [
    "test_data = pd.read_csv(\"../data/test-PDA2019.csv\")\n",
    "test_data.columns = [\"userID\", \"recommended_itemID\"]"
   ],
   "metadata": {
    "collapsed": false,
    "pycharm": {
     "name": "#%%\n",
     "is_executing": false
    }
   }
  },
  {
   "cell_type": "code",
   "execution_count": 4,
   "outputs": [],
   "source": [
    "content_df = pd.read_csv(\"../data/content-PDA2019.csv\")\n",
    "#content_df.head()"
   ],
   "metadata": {
    "collapsed": false,
    "pycharm": {
     "name": "#%%\n",
     "is_executing": false
    }
   }
  },
  {
   "cell_type": "code",
   "execution_count": 5,
   "outputs": [],
   "source": [
    "reader = Reader(rating_scale=(1,5))\n",
    "data = Dataset.load_from_df(train_data[['userID', 'itemID','rating']], reader)"
   ],
   "metadata": {
    "collapsed": false,
    "pycharm": {
     "name": "#%%\n",
     "is_executing": false
    }
   }
  },
  {
   "cell_type": "code",
   "execution_count": 6,
   "outputs": [],
   "source": [
    "rating_df = data.build_full_trainset()"
   ],
   "metadata": {
    "collapsed": false,
    "pycharm": {
     "name": "#%%\n",
     "is_executing": false
    }
   }
  },
  {
   "cell_type": "code",
   "execution_count": 7,
   "outputs": [],
   "source": [
    "user_rating = rating_df.ur\n",
    "item_rating = rating_df.ir\n",
    "num_users = rating_df.n_users\n",
    "num_items = rating_df.n_items\n",
    "num_ratings = rating_df.n_ratings\n",
    "\n",
    "mean_ = rating_df.global_mean\n",
    "mean_ = np.round(mean_, decimals=2)\n",
    "\n",
    "density_ = num_ratings/(num_users*num_items)\n",
    "sparsity_ = 1 - density_\n"
   ],
   "metadata": {
    "collapsed": false,
    "pycharm": {
     "name": "#%%\n",
     "is_executing": false
    }
   }
  },
  {
   "cell_type": "code",
   "execution_count": 8,
   "outputs": [
    {
     "name": "stderr",
     "text": [
      "IOPub data rate exceeded.\nThe notebook server will temporarily stop sending output\nto the client in order to avoid crashing it.\nTo change this limit, set the config variable\n`--NotebookApp.iopub_data_rate_limit`.\n\nCurrent values:\nNotebookApp.iopub_data_rate_limit=1000000.0 (bytes/sec)\nNotebookApp.rate_limit_window=3.0 (secs)\n\n"
     ],
     "output_type": "stream"
    }
   ],
   "source": [
    "print(\"Users\", num_users)\n",
    "print(\"items\", num_items)\n",
    "print(\"ratings \", num_ratings)\n",
    "print(\"Mean rating\", mean_)\n",
    "print(\"density \" ,density_ *100, \"%\")\n",
    "print(\"sparsity \", sparsity_ *100 ,\"%\")\n"
   ],
   "metadata": {
    "collapsed": false,
    "pycharm": {
     "name": "#%%\n",
     "is_executing": false
    }
   }
  },
  {
   "cell_type": "code",
   "execution_count": 44,
   "outputs": [],
   "source": [
    "#Best params for best fcp ranking gives better results than the params for best rmse\n",
    "recommender = SVD(n_epochs= 10, lr_all= 0.001, reg_all= 0.5)"
   ],
   "metadata": {
    "collapsed": false,
    "pycharm": {
     "name": "#%%\n",
     "is_executing": false
    }
   }
  },
  {
   "cell_type": "code",
   "execution_count": 45,
   "outputs": [
    {
     "data": {
      "text/plain": "'\\nfrom surprise.model_selection import cross_validate\\nfrom surprise.model_selection import KFold\\nfrom surprise import accuracy\\n\\nkf = KFold(n_splits=4)\\n'"
     },
     "metadata": {},
     "output_type": "execute_result",
     "execution_count": 45
    }
   ],
   "source": [
    "'''\n",
    "from surprise.model_selection import cross_validate\n",
    "from surprise.model_selection import KFold\n",
    "from surprise import accuracy\n",
    "\n",
    "kf = KFold(n_splits=4)\n",
    "'''"
   ],
   "metadata": {
    "collapsed": false,
    "pycharm": {
     "name": "#%%\n",
     "is_executing": false
    }
   }
  },
  {
   "cell_type": "code",
   "execution_count": 46,
   "outputs": [
    {
     "data": {
      "text/plain": "\"\\nfold_n = 1\\n\\nfor trainset, testset in kf.split(data):\\n    recommender.fit(trainset)\\n    predictions = recommender.test(testset)\\n    \\n    rmse_ = accuracy.rmse(predictions, verbose=False)\\n    mae_ = accuracy.mae(predictions, verbose=False)\\n    rank_qualit_ = accuracy.fcp(predictions, verbose=False)\\n    \\n    print('--- Fold: ', fold_n, '----')\\n    print('Pred accuracy (MAE): {:.2f}'.format(mae_), ','\\n          'Pred accuracy (RMSE): {:.2f}'.format(rmse_), ','\\n          'Pred accuracy (FCP): {:.2f}'.format(rank_qualit_)) \\n    \\n    fold_n +=1\\n\""
     },
     "metadata": {},
     "output_type": "execute_result",
     "execution_count": 46
    }
   ],
   "source": [
    "'''\n",
    "fold_n = 1\n",
    "\n",
    "for trainset, testset in kf.split(data):\n",
    "    recommender.fit(trainset)\n",
    "    predictions = recommender.test(testset)\n",
    "    \n",
    "    rmse_ = accuracy.rmse(predictions, verbose=False)\n",
    "    mae_ = accuracy.mae(predictions, verbose=False)\n",
    "    rank_qualit_ = accuracy.fcp(predictions, verbose=False)\n",
    "    \n",
    "    print('--- Fold: ', fold_n, '----')\n",
    "    print('Pred accuracy (MAE): {:.2f}'.format(mae_), ','\n",
    "          'Pred accuracy (RMSE): {:.2f}'.format(rmse_), ','\n",
    "          'Pred accuracy (FCP): {:.2f}'.format(rank_qualit_)) \n",
    "    \n",
    "    fold_n +=1\n",
    "'''"
   ],
   "metadata": {
    "collapsed": false,
    "pycharm": {
     "name": "#%%\n",
     "is_executing": false
    }
   }
  },
  {
   "cell_type": "code",
   "execution_count": 47,
   "outputs": [
    {
     "data": {
      "text/plain": "<surprise.prediction_algorithms.matrix_factorization.SVD at 0x14ed730>"
     },
     "metadata": {},
     "output_type": "execute_result",
     "execution_count": 47
    }
   ],
   "source": [
    "recommender.fit(rating_df)\n"
   ],
   "metadata": {
    "collapsed": false,
    "pycharm": {
     "name": "#%%\n",
     "is_executing": false
    }
   }
  },
  {
   "cell_type": "code",
   "execution_count": 48,
   "outputs": [],
   "source": [
    "# Get a list of all individual items from content.csv\n",
    "#items_all = content_df.iloc[:,0].as_matrix()\n",
    "#len(items_all)"
   ],
   "metadata": {
    "collapsed": false,
    "pycharm": {
     "name": "#%%\n",
     "is_executing": false
    }
   }
  },
  {
   "cell_type": "code",
   "execution_count": 49,
   "outputs": [
    {
     "name": "stderr",
     "text": [
      "c:\\users\\katha\\appdata\\local\\programs\\python\\python37-32\\lib\\site-packages\\ipykernel_launcher.py:4: FutureWarning: Method .as_matrix will be removed in a future version. Use .values instead.\n  after removing the cwd from sys.path.\n"
     ],
     "output_type": "stream"
    },
    {
     "data": {
      "text/plain": "845"
     },
     "metadata": {},
     "output_type": "execute_result",
     "execution_count": 49
    }
   ],
   "source": [
    "items_train = train_data[\"itemID\"]\n",
    "items = items_train.sort_values()\n",
    "items = items.as_matrix(items)\n",
    "items_set = set(items)\n",
    "len(items_set)"
   ],
   "metadata": {
    "collapsed": false,
    "pycharm": {
     "name": "#%%\n",
     "is_executing": false
    }
   }
  },
  {
   "cell_type": "code",
   "execution_count": 50,
   "outputs": [
    {
     "name": "stderr",
     "text": [
      "c:\\users\\katha\\appdata\\local\\programs\\python\\python37-32\\lib\\site-packages\\ipykernel_launcher.py:3: FutureWarning: Method .as_matrix will be removed in a future version. Use .values instead.\n  This is separate from the ipykernel package so we can avoid doing imports until\n"
     ],
     "output_type": "stream"
    },
    {
     "data": {
      "text/plain": "1992"
     },
     "metadata": {},
     "output_type": "execute_result",
     "execution_count": 50
    }
   ],
   "source": [
    "#get a list of all users to iterate over\n",
    "users_all = test_data[\"userID\"].as_matrix()\n",
    "len(users_all)"
   ],
   "metadata": {
    "collapsed": false,
    "pycharm": {
     "name": "#%%\n",
     "is_executing": false
    }
   }
  },
  {
   "cell_type": "code",
   "execution_count": 51,
   "outputs": [],
   "source": [
    "predictions = []\n",
    "item_pred = []\n",
    "i = 0\n",
    "for user in users_all:\n",
    "    for item in items_set:\n",
    "        predictions += recommender.predict(user,item)\n",
    "    i += 1"
   ],
   "metadata": {
    "collapsed": false,
    "pycharm": {
     "name": "#%%\n",
     "is_executing": false
    }
   }
  },
  {
   "cell_type": "code",
   "execution_count": 52,
   "outputs": [],
   "source": [
    "# 0 is the user\n",
    "# 1 is the item id\n",
    "# 3 is the prediction\n",
    "#predictions"
   ],
   "metadata": {
    "collapsed": false,
    "pycharm": {
     "name": "#%%\n",
     "is_executing": false
    }
   }
  },
  {
   "cell_type": "code",
   "execution_count": 53,
   "outputs": [],
   "source": [
    "ind_pred = []\n",
    "for i in range(0, len(predictions), 5):\n",
    "    ind_pred.append(predictions[i:i + 5])\n",
    "        "
   ],
   "metadata": {
    "collapsed": false,
    "pycharm": {
     "name": "#%%\n",
     "is_executing": false
    }
   }
  },
  {
   "cell_type": "code",
   "execution_count": 54,
   "outputs": [],
   "source": [
    "columns = [\"userID\", \"itemID\", \"none\", \"predEst\", \"impossible\"]\n",
    "df = pd.DataFrame(ind_pred , columns=columns)"
   ],
   "metadata": {
    "collapsed": false,
    "pycharm": {
     "name": "#%%\n",
     "is_executing": false
    }
   }
  },
  {
   "cell_type": "code",
   "execution_count": 55,
   "outputs": [
    {
     "data": {
      "text/plain": "         userID  itemID  none   predEst                 impossible\n1682527   12073     318  None  4.211248  {'was_impossible': False}\n1682749   12073     858  None  4.196685  {'was_impossible': False}\n1682786   12073     922  None  4.167136  {'was_impossible': False}\n1682893   12073    1148  None  4.165047  {'was_impossible': False}\n1682764   12073     904  None  4.140810  {'was_impossible': False}\n1682771   12073     912  None  4.132076  {'was_impossible': False}\n1683218   12073    1207  None  4.130620  {'was_impossible': False}\n1682499   12073     260  None  4.126119  {'was_impossible': False}\n1682910   12073    1198  None  4.126111  {'was_impossible': False}\n1682927   12073    1212  None  4.106118  {'was_impossible': False}\n1682772   12073     913  None  4.103301  {'was_impossible': False}\n1682809   12073    3030  None  4.101895  {'was_impossible': False}\n1683011   12073    3435  None  4.099929  {'was_impossible': False}\n1682906   12073    1193  None  4.097746  {'was_impossible': False}\n1682767   12073     908  None  4.094640  {'was_impossible': False}\n1682780   12073     923  None  4.090733  {'was_impossible': False}\n1682947   12073    1254  None  4.084053  {'was_impossible': False}\n1682700   12073    2762  None  4.081063  {'was_impossible': False}\n1682785   12073     928  None  4.077482  {'was_impossible': False}\n1682950   12073    3307  None  4.073791  {'was_impossible': False}\n1682952   12073    1262  None  4.073606  {'was_impossible': False}\n1682508   12073    2324  None  4.072557  {'was_impossible': False}\n1682889   12073    1136  None  4.062677  {'was_impossible': False}\n1682945   12073    1252  None  4.059884  {'was_impossible': False}\n1682932   12073    1223  None  4.058900  {'was_impossible': False}\n1682733   12073    2858  None  4.058559  {'was_impossible': False}\n1682909   12073    1197  None  4.051731  {'was_impossible': False}\n1682937   12073    1234  None  4.048589  {'was_impossible': False}\n1682654   12073     593  None  4.047942  {'was_impossible': False}\n1682511   12073    2329  None  4.032865  {'was_impossible': False}\n...         ...     ...   ...       ...                        ...\n780           1    1831  None  3.008160  {'was_impossible': False}\n323           1    2808  None  3.004447  {'was_impossible': False}\n192           1    2471  None  3.000680  {'was_impossible': False}\n66            1     172  None  2.994814  {'was_impossible': False}\n489           1    1126  None  2.986441  {'was_impossible': False}\n179           1     393  None  2.975985  {'was_impossible': False}\n303           1    2748  None  2.973712  {'was_impossible': False}\n767           1    1772  None  2.966483  {'was_impossible': False}\n578           1    3354  None  2.954952  {'was_impossible': False}\n167           1     374  None  2.952047  {'was_impossible': False}\n351           1     849  None  2.938536  {'was_impossible': False}\n146           1    2392  None  2.933843  {'was_impossible': False}\n791           1    1882  None  2.915635  {'was_impossible': False}\n762           1    3802  None  2.893913  {'was_impossible': False}\n826           1    1984  None  2.872683  {'was_impossible': False}\n821           1    1971  None  2.837724  {'was_impossible': False}\n266           1    2642  None  2.826259  {'was_impossible': False}\n325           1    2816  None  2.816794  {'was_impossible': False}\n534           1    3268  None  2.807262  {'was_impossible': False}\n371           1    2950  None  2.806414  {'was_impossible': False}\n672           1    1562  None  2.777092  {'was_impossible': False}\n184           1     405  None  2.775107  {'was_impossible': False}\n617           1    3439  None  2.765792  {'was_impossible': False}\n1             1    2053  None  2.759776  {'was_impossible': False}\n313           1     737  None  2.750551  {'was_impossible': False}\n123           1    2338  None  2.750525  {'was_impossible': False}\n285           1    2701  None  2.739884  {'was_impossible': False}\n295           1    2720  None  2.723774  {'was_impossible': False}\n764           1    1760  None  2.718881  {'was_impossible': False}\n236           1     546  None  2.517121  {'was_impossible': False}\n\n[1683240 rows x 5 columns]",
      "text/html": "<div>\n<style scoped>\n    .dataframe tbody tr th:only-of-type {\n        vertical-align: middle;\n    }\n\n    .dataframe tbody tr th {\n        vertical-align: top;\n    }\n\n    .dataframe thead th {\n        text-align: right;\n    }\n</style>\n<table border=\"1\" class=\"dataframe\">\n  <thead>\n    <tr style=\"text-align: right;\">\n      <th></th>\n      <th>userID</th>\n      <th>itemID</th>\n      <th>none</th>\n      <th>predEst</th>\n      <th>impossible</th>\n    </tr>\n  </thead>\n  <tbody>\n    <tr>\n      <th>1682527</th>\n      <td>12073</td>\n      <td>318</td>\n      <td>None</td>\n      <td>4.211248</td>\n      <td>{'was_impossible': False}</td>\n    </tr>\n    <tr>\n      <th>1682749</th>\n      <td>12073</td>\n      <td>858</td>\n      <td>None</td>\n      <td>4.196685</td>\n      <td>{'was_impossible': False}</td>\n    </tr>\n    <tr>\n      <th>1682786</th>\n      <td>12073</td>\n      <td>922</td>\n      <td>None</td>\n      <td>4.167136</td>\n      <td>{'was_impossible': False}</td>\n    </tr>\n    <tr>\n      <th>1682893</th>\n      <td>12073</td>\n      <td>1148</td>\n      <td>None</td>\n      <td>4.165047</td>\n      <td>{'was_impossible': False}</td>\n    </tr>\n    <tr>\n      <th>1682764</th>\n      <td>12073</td>\n      <td>904</td>\n      <td>None</td>\n      <td>4.140810</td>\n      <td>{'was_impossible': False}</td>\n    </tr>\n    <tr>\n      <th>1682771</th>\n      <td>12073</td>\n      <td>912</td>\n      <td>None</td>\n      <td>4.132076</td>\n      <td>{'was_impossible': False}</td>\n    </tr>\n    <tr>\n      <th>1683218</th>\n      <td>12073</td>\n      <td>1207</td>\n      <td>None</td>\n      <td>4.130620</td>\n      <td>{'was_impossible': False}</td>\n    </tr>\n    <tr>\n      <th>1682499</th>\n      <td>12073</td>\n      <td>260</td>\n      <td>None</td>\n      <td>4.126119</td>\n      <td>{'was_impossible': False}</td>\n    </tr>\n    <tr>\n      <th>1682910</th>\n      <td>12073</td>\n      <td>1198</td>\n      <td>None</td>\n      <td>4.126111</td>\n      <td>{'was_impossible': False}</td>\n    </tr>\n    <tr>\n      <th>1682927</th>\n      <td>12073</td>\n      <td>1212</td>\n      <td>None</td>\n      <td>4.106118</td>\n      <td>{'was_impossible': False}</td>\n    </tr>\n    <tr>\n      <th>1682772</th>\n      <td>12073</td>\n      <td>913</td>\n      <td>None</td>\n      <td>4.103301</td>\n      <td>{'was_impossible': False}</td>\n    </tr>\n    <tr>\n      <th>1682809</th>\n      <td>12073</td>\n      <td>3030</td>\n      <td>None</td>\n      <td>4.101895</td>\n      <td>{'was_impossible': False}</td>\n    </tr>\n    <tr>\n      <th>1683011</th>\n      <td>12073</td>\n      <td>3435</td>\n      <td>None</td>\n      <td>4.099929</td>\n      <td>{'was_impossible': False}</td>\n    </tr>\n    <tr>\n      <th>1682906</th>\n      <td>12073</td>\n      <td>1193</td>\n      <td>None</td>\n      <td>4.097746</td>\n      <td>{'was_impossible': False}</td>\n    </tr>\n    <tr>\n      <th>1682767</th>\n      <td>12073</td>\n      <td>908</td>\n      <td>None</td>\n      <td>4.094640</td>\n      <td>{'was_impossible': False}</td>\n    </tr>\n    <tr>\n      <th>1682780</th>\n      <td>12073</td>\n      <td>923</td>\n      <td>None</td>\n      <td>4.090733</td>\n      <td>{'was_impossible': False}</td>\n    </tr>\n    <tr>\n      <th>1682947</th>\n      <td>12073</td>\n      <td>1254</td>\n      <td>None</td>\n      <td>4.084053</td>\n      <td>{'was_impossible': False}</td>\n    </tr>\n    <tr>\n      <th>1682700</th>\n      <td>12073</td>\n      <td>2762</td>\n      <td>None</td>\n      <td>4.081063</td>\n      <td>{'was_impossible': False}</td>\n    </tr>\n    <tr>\n      <th>1682785</th>\n      <td>12073</td>\n      <td>928</td>\n      <td>None</td>\n      <td>4.077482</td>\n      <td>{'was_impossible': False}</td>\n    </tr>\n    <tr>\n      <th>1682950</th>\n      <td>12073</td>\n      <td>3307</td>\n      <td>None</td>\n      <td>4.073791</td>\n      <td>{'was_impossible': False}</td>\n    </tr>\n    <tr>\n      <th>1682952</th>\n      <td>12073</td>\n      <td>1262</td>\n      <td>None</td>\n      <td>4.073606</td>\n      <td>{'was_impossible': False}</td>\n    </tr>\n    <tr>\n      <th>1682508</th>\n      <td>12073</td>\n      <td>2324</td>\n      <td>None</td>\n      <td>4.072557</td>\n      <td>{'was_impossible': False}</td>\n    </tr>\n    <tr>\n      <th>1682889</th>\n      <td>12073</td>\n      <td>1136</td>\n      <td>None</td>\n      <td>4.062677</td>\n      <td>{'was_impossible': False}</td>\n    </tr>\n    <tr>\n      <th>1682945</th>\n      <td>12073</td>\n      <td>1252</td>\n      <td>None</td>\n      <td>4.059884</td>\n      <td>{'was_impossible': False}</td>\n    </tr>\n    <tr>\n      <th>1682932</th>\n      <td>12073</td>\n      <td>1223</td>\n      <td>None</td>\n      <td>4.058900</td>\n      <td>{'was_impossible': False}</td>\n    </tr>\n    <tr>\n      <th>1682733</th>\n      <td>12073</td>\n      <td>2858</td>\n      <td>None</td>\n      <td>4.058559</td>\n      <td>{'was_impossible': False}</td>\n    </tr>\n    <tr>\n      <th>1682909</th>\n      <td>12073</td>\n      <td>1197</td>\n      <td>None</td>\n      <td>4.051731</td>\n      <td>{'was_impossible': False}</td>\n    </tr>\n    <tr>\n      <th>1682937</th>\n      <td>12073</td>\n      <td>1234</td>\n      <td>None</td>\n      <td>4.048589</td>\n      <td>{'was_impossible': False}</td>\n    </tr>\n    <tr>\n      <th>1682654</th>\n      <td>12073</td>\n      <td>593</td>\n      <td>None</td>\n      <td>4.047942</td>\n      <td>{'was_impossible': False}</td>\n    </tr>\n    <tr>\n      <th>1682511</th>\n      <td>12073</td>\n      <td>2329</td>\n      <td>None</td>\n      <td>4.032865</td>\n      <td>{'was_impossible': False}</td>\n    </tr>\n    <tr>\n      <th>...</th>\n      <td>...</td>\n      <td>...</td>\n      <td>...</td>\n      <td>...</td>\n      <td>...</td>\n    </tr>\n    <tr>\n      <th>780</th>\n      <td>1</td>\n      <td>1831</td>\n      <td>None</td>\n      <td>3.008160</td>\n      <td>{'was_impossible': False}</td>\n    </tr>\n    <tr>\n      <th>323</th>\n      <td>1</td>\n      <td>2808</td>\n      <td>None</td>\n      <td>3.004447</td>\n      <td>{'was_impossible': False}</td>\n    </tr>\n    <tr>\n      <th>192</th>\n      <td>1</td>\n      <td>2471</td>\n      <td>None</td>\n      <td>3.000680</td>\n      <td>{'was_impossible': False}</td>\n    </tr>\n    <tr>\n      <th>66</th>\n      <td>1</td>\n      <td>172</td>\n      <td>None</td>\n      <td>2.994814</td>\n      <td>{'was_impossible': False}</td>\n    </tr>\n    <tr>\n      <th>489</th>\n      <td>1</td>\n      <td>1126</td>\n      <td>None</td>\n      <td>2.986441</td>\n      <td>{'was_impossible': False}</td>\n    </tr>\n    <tr>\n      <th>179</th>\n      <td>1</td>\n      <td>393</td>\n      <td>None</td>\n      <td>2.975985</td>\n      <td>{'was_impossible': False}</td>\n    </tr>\n    <tr>\n      <th>303</th>\n      <td>1</td>\n      <td>2748</td>\n      <td>None</td>\n      <td>2.973712</td>\n      <td>{'was_impossible': False}</td>\n    </tr>\n    <tr>\n      <th>767</th>\n      <td>1</td>\n      <td>1772</td>\n      <td>None</td>\n      <td>2.966483</td>\n      <td>{'was_impossible': False}</td>\n    </tr>\n    <tr>\n      <th>578</th>\n      <td>1</td>\n      <td>3354</td>\n      <td>None</td>\n      <td>2.954952</td>\n      <td>{'was_impossible': False}</td>\n    </tr>\n    <tr>\n      <th>167</th>\n      <td>1</td>\n      <td>374</td>\n      <td>None</td>\n      <td>2.952047</td>\n      <td>{'was_impossible': False}</td>\n    </tr>\n    <tr>\n      <th>351</th>\n      <td>1</td>\n      <td>849</td>\n      <td>None</td>\n      <td>2.938536</td>\n      <td>{'was_impossible': False}</td>\n    </tr>\n    <tr>\n      <th>146</th>\n      <td>1</td>\n      <td>2392</td>\n      <td>None</td>\n      <td>2.933843</td>\n      <td>{'was_impossible': False}</td>\n    </tr>\n    <tr>\n      <th>791</th>\n      <td>1</td>\n      <td>1882</td>\n      <td>None</td>\n      <td>2.915635</td>\n      <td>{'was_impossible': False}</td>\n    </tr>\n    <tr>\n      <th>762</th>\n      <td>1</td>\n      <td>3802</td>\n      <td>None</td>\n      <td>2.893913</td>\n      <td>{'was_impossible': False}</td>\n    </tr>\n    <tr>\n      <th>826</th>\n      <td>1</td>\n      <td>1984</td>\n      <td>None</td>\n      <td>2.872683</td>\n      <td>{'was_impossible': False}</td>\n    </tr>\n    <tr>\n      <th>821</th>\n      <td>1</td>\n      <td>1971</td>\n      <td>None</td>\n      <td>2.837724</td>\n      <td>{'was_impossible': False}</td>\n    </tr>\n    <tr>\n      <th>266</th>\n      <td>1</td>\n      <td>2642</td>\n      <td>None</td>\n      <td>2.826259</td>\n      <td>{'was_impossible': False}</td>\n    </tr>\n    <tr>\n      <th>325</th>\n      <td>1</td>\n      <td>2816</td>\n      <td>None</td>\n      <td>2.816794</td>\n      <td>{'was_impossible': False}</td>\n    </tr>\n    <tr>\n      <th>534</th>\n      <td>1</td>\n      <td>3268</td>\n      <td>None</td>\n      <td>2.807262</td>\n      <td>{'was_impossible': False}</td>\n    </tr>\n    <tr>\n      <th>371</th>\n      <td>1</td>\n      <td>2950</td>\n      <td>None</td>\n      <td>2.806414</td>\n      <td>{'was_impossible': False}</td>\n    </tr>\n    <tr>\n      <th>672</th>\n      <td>1</td>\n      <td>1562</td>\n      <td>None</td>\n      <td>2.777092</td>\n      <td>{'was_impossible': False}</td>\n    </tr>\n    <tr>\n      <th>184</th>\n      <td>1</td>\n      <td>405</td>\n      <td>None</td>\n      <td>2.775107</td>\n      <td>{'was_impossible': False}</td>\n    </tr>\n    <tr>\n      <th>617</th>\n      <td>1</td>\n      <td>3439</td>\n      <td>None</td>\n      <td>2.765792</td>\n      <td>{'was_impossible': False}</td>\n    </tr>\n    <tr>\n      <th>1</th>\n      <td>1</td>\n      <td>2053</td>\n      <td>None</td>\n      <td>2.759776</td>\n      <td>{'was_impossible': False}</td>\n    </tr>\n    <tr>\n      <th>313</th>\n      <td>1</td>\n      <td>737</td>\n      <td>None</td>\n      <td>2.750551</td>\n      <td>{'was_impossible': False}</td>\n    </tr>\n    <tr>\n      <th>123</th>\n      <td>1</td>\n      <td>2338</td>\n      <td>None</td>\n      <td>2.750525</td>\n      <td>{'was_impossible': False}</td>\n    </tr>\n    <tr>\n      <th>285</th>\n      <td>1</td>\n      <td>2701</td>\n      <td>None</td>\n      <td>2.739884</td>\n      <td>{'was_impossible': False}</td>\n    </tr>\n    <tr>\n      <th>295</th>\n      <td>1</td>\n      <td>2720</td>\n      <td>None</td>\n      <td>2.723774</td>\n      <td>{'was_impossible': False}</td>\n    </tr>\n    <tr>\n      <th>764</th>\n      <td>1</td>\n      <td>1760</td>\n      <td>None</td>\n      <td>2.718881</td>\n      <td>{'was_impossible': False}</td>\n    </tr>\n    <tr>\n      <th>236</th>\n      <td>1</td>\n      <td>546</td>\n      <td>None</td>\n      <td>2.517121</td>\n      <td>{'was_impossible': False}</td>\n    </tr>\n  </tbody>\n</table>\n<p>1683240 rows × 5 columns</p>\n</div>"
     },
     "metadata": {},
     "output_type": "execute_result",
     "execution_count": 55
    }
   ],
   "source": [
    "df = df.sort_values(by=['userID','predEst'], ascending=False)\n",
    "df"
   ],
   "metadata": {
    "collapsed": false,
    "pycharm": {
     "name": "#%%\n",
     "is_executing": false
    }
   }
  },
  {
   "cell_type": "code",
   "execution_count": 56,
   "outputs": [
    {
     "data": {
      "text/plain": "         userID  itemID  none   predEst\n1682527   12073     318  None  4.211248\n1682749   12073     858  None  4.196685\n1682786   12073     922  None  4.167136\n1682893   12073    1148  None  4.165047\n1682764   12073     904  None  4.140810\n1682771   12073     912  None  4.132076\n1683218   12073    1207  None  4.130620\n1682499   12073     260  None  4.126119\n1682910   12073    1198  None  4.126111\n1682927   12073    1212  None  4.106118\n1682772   12073     913  None  4.103301\n1682809   12073    3030  None  4.101895\n1683011   12073    3435  None  4.099929\n1682906   12073    1193  None  4.097746\n1682767   12073     908  None  4.094640\n1682780   12073     923  None  4.090733\n1682947   12073    1254  None  4.084053\n1682700   12073    2762  None  4.081063\n1682785   12073     928  None  4.077482\n1682950   12073    3307  None  4.073791\n1682952   12073    1262  None  4.073606\n1682508   12073    2324  None  4.072557\n1682889   12073    1136  None  4.062677\n1682945   12073    1252  None  4.059884\n1682932   12073    1223  None  4.058900\n1682733   12073    2858  None  4.058559\n1682909   12073    1197  None  4.051731\n1682937   12073    1234  None  4.048589\n1682654   12073     593  None  4.047942\n1682511   12073    2329  None  4.032865\n...         ...     ...   ...       ...\n780           1    1831  None  3.008160\n323           1    2808  None  3.004447\n192           1    2471  None  3.000680\n66            1     172  None  2.994814\n489           1    1126  None  2.986441\n179           1     393  None  2.975985\n303           1    2748  None  2.973712\n767           1    1772  None  2.966483\n578           1    3354  None  2.954952\n167           1     374  None  2.952047\n351           1     849  None  2.938536\n146           1    2392  None  2.933843\n791           1    1882  None  2.915635\n762           1    3802  None  2.893913\n826           1    1984  None  2.872683\n821           1    1971  None  2.837724\n266           1    2642  None  2.826259\n325           1    2816  None  2.816794\n534           1    3268  None  2.807262\n371           1    2950  None  2.806414\n672           1    1562  None  2.777092\n184           1     405  None  2.775107\n617           1    3439  None  2.765792\n1             1    2053  None  2.759776\n313           1     737  None  2.750551\n123           1    2338  None  2.750525\n285           1    2701  None  2.739884\n295           1    2720  None  2.723774\n764           1    1760  None  2.718881\n236           1     546  None  2.517121\n\n[1683240 rows x 4 columns]",
      "text/html": "<div>\n<style scoped>\n    .dataframe tbody tr th:only-of-type {\n        vertical-align: middle;\n    }\n\n    .dataframe tbody tr th {\n        vertical-align: top;\n    }\n\n    .dataframe thead th {\n        text-align: right;\n    }\n</style>\n<table border=\"1\" class=\"dataframe\">\n  <thead>\n    <tr style=\"text-align: right;\">\n      <th></th>\n      <th>userID</th>\n      <th>itemID</th>\n      <th>none</th>\n      <th>predEst</th>\n    </tr>\n  </thead>\n  <tbody>\n    <tr>\n      <th>1682527</th>\n      <td>12073</td>\n      <td>318</td>\n      <td>None</td>\n      <td>4.211248</td>\n    </tr>\n    <tr>\n      <th>1682749</th>\n      <td>12073</td>\n      <td>858</td>\n      <td>None</td>\n      <td>4.196685</td>\n    </tr>\n    <tr>\n      <th>1682786</th>\n      <td>12073</td>\n      <td>922</td>\n      <td>None</td>\n      <td>4.167136</td>\n    </tr>\n    <tr>\n      <th>1682893</th>\n      <td>12073</td>\n      <td>1148</td>\n      <td>None</td>\n      <td>4.165047</td>\n    </tr>\n    <tr>\n      <th>1682764</th>\n      <td>12073</td>\n      <td>904</td>\n      <td>None</td>\n      <td>4.140810</td>\n    </tr>\n    <tr>\n      <th>1682771</th>\n      <td>12073</td>\n      <td>912</td>\n      <td>None</td>\n      <td>4.132076</td>\n    </tr>\n    <tr>\n      <th>1683218</th>\n      <td>12073</td>\n      <td>1207</td>\n      <td>None</td>\n      <td>4.130620</td>\n    </tr>\n    <tr>\n      <th>1682499</th>\n      <td>12073</td>\n      <td>260</td>\n      <td>None</td>\n      <td>4.126119</td>\n    </tr>\n    <tr>\n      <th>1682910</th>\n      <td>12073</td>\n      <td>1198</td>\n      <td>None</td>\n      <td>4.126111</td>\n    </tr>\n    <tr>\n      <th>1682927</th>\n      <td>12073</td>\n      <td>1212</td>\n      <td>None</td>\n      <td>4.106118</td>\n    </tr>\n    <tr>\n      <th>1682772</th>\n      <td>12073</td>\n      <td>913</td>\n      <td>None</td>\n      <td>4.103301</td>\n    </tr>\n    <tr>\n      <th>1682809</th>\n      <td>12073</td>\n      <td>3030</td>\n      <td>None</td>\n      <td>4.101895</td>\n    </tr>\n    <tr>\n      <th>1683011</th>\n      <td>12073</td>\n      <td>3435</td>\n      <td>None</td>\n      <td>4.099929</td>\n    </tr>\n    <tr>\n      <th>1682906</th>\n      <td>12073</td>\n      <td>1193</td>\n      <td>None</td>\n      <td>4.097746</td>\n    </tr>\n    <tr>\n      <th>1682767</th>\n      <td>12073</td>\n      <td>908</td>\n      <td>None</td>\n      <td>4.094640</td>\n    </tr>\n    <tr>\n      <th>1682780</th>\n      <td>12073</td>\n      <td>923</td>\n      <td>None</td>\n      <td>4.090733</td>\n    </tr>\n    <tr>\n      <th>1682947</th>\n      <td>12073</td>\n      <td>1254</td>\n      <td>None</td>\n      <td>4.084053</td>\n    </tr>\n    <tr>\n      <th>1682700</th>\n      <td>12073</td>\n      <td>2762</td>\n      <td>None</td>\n      <td>4.081063</td>\n    </tr>\n    <tr>\n      <th>1682785</th>\n      <td>12073</td>\n      <td>928</td>\n      <td>None</td>\n      <td>4.077482</td>\n    </tr>\n    <tr>\n      <th>1682950</th>\n      <td>12073</td>\n      <td>3307</td>\n      <td>None</td>\n      <td>4.073791</td>\n    </tr>\n    <tr>\n      <th>1682952</th>\n      <td>12073</td>\n      <td>1262</td>\n      <td>None</td>\n      <td>4.073606</td>\n    </tr>\n    <tr>\n      <th>1682508</th>\n      <td>12073</td>\n      <td>2324</td>\n      <td>None</td>\n      <td>4.072557</td>\n    </tr>\n    <tr>\n      <th>1682889</th>\n      <td>12073</td>\n      <td>1136</td>\n      <td>None</td>\n      <td>4.062677</td>\n    </tr>\n    <tr>\n      <th>1682945</th>\n      <td>12073</td>\n      <td>1252</td>\n      <td>None</td>\n      <td>4.059884</td>\n    </tr>\n    <tr>\n      <th>1682932</th>\n      <td>12073</td>\n      <td>1223</td>\n      <td>None</td>\n      <td>4.058900</td>\n    </tr>\n    <tr>\n      <th>1682733</th>\n      <td>12073</td>\n      <td>2858</td>\n      <td>None</td>\n      <td>4.058559</td>\n    </tr>\n    <tr>\n      <th>1682909</th>\n      <td>12073</td>\n      <td>1197</td>\n      <td>None</td>\n      <td>4.051731</td>\n    </tr>\n    <tr>\n      <th>1682937</th>\n      <td>12073</td>\n      <td>1234</td>\n      <td>None</td>\n      <td>4.048589</td>\n    </tr>\n    <tr>\n      <th>1682654</th>\n      <td>12073</td>\n      <td>593</td>\n      <td>None</td>\n      <td>4.047942</td>\n    </tr>\n    <tr>\n      <th>1682511</th>\n      <td>12073</td>\n      <td>2329</td>\n      <td>None</td>\n      <td>4.032865</td>\n    </tr>\n    <tr>\n      <th>...</th>\n      <td>...</td>\n      <td>...</td>\n      <td>...</td>\n      <td>...</td>\n    </tr>\n    <tr>\n      <th>780</th>\n      <td>1</td>\n      <td>1831</td>\n      <td>None</td>\n      <td>3.008160</td>\n    </tr>\n    <tr>\n      <th>323</th>\n      <td>1</td>\n      <td>2808</td>\n      <td>None</td>\n      <td>3.004447</td>\n    </tr>\n    <tr>\n      <th>192</th>\n      <td>1</td>\n      <td>2471</td>\n      <td>None</td>\n      <td>3.000680</td>\n    </tr>\n    <tr>\n      <th>66</th>\n      <td>1</td>\n      <td>172</td>\n      <td>None</td>\n      <td>2.994814</td>\n    </tr>\n    <tr>\n      <th>489</th>\n      <td>1</td>\n      <td>1126</td>\n      <td>None</td>\n      <td>2.986441</td>\n    </tr>\n    <tr>\n      <th>179</th>\n      <td>1</td>\n      <td>393</td>\n      <td>None</td>\n      <td>2.975985</td>\n    </tr>\n    <tr>\n      <th>303</th>\n      <td>1</td>\n      <td>2748</td>\n      <td>None</td>\n      <td>2.973712</td>\n    </tr>\n    <tr>\n      <th>767</th>\n      <td>1</td>\n      <td>1772</td>\n      <td>None</td>\n      <td>2.966483</td>\n    </tr>\n    <tr>\n      <th>578</th>\n      <td>1</td>\n      <td>3354</td>\n      <td>None</td>\n      <td>2.954952</td>\n    </tr>\n    <tr>\n      <th>167</th>\n      <td>1</td>\n      <td>374</td>\n      <td>None</td>\n      <td>2.952047</td>\n    </tr>\n    <tr>\n      <th>351</th>\n      <td>1</td>\n      <td>849</td>\n      <td>None</td>\n      <td>2.938536</td>\n    </tr>\n    <tr>\n      <th>146</th>\n      <td>1</td>\n      <td>2392</td>\n      <td>None</td>\n      <td>2.933843</td>\n    </tr>\n    <tr>\n      <th>791</th>\n      <td>1</td>\n      <td>1882</td>\n      <td>None</td>\n      <td>2.915635</td>\n    </tr>\n    <tr>\n      <th>762</th>\n      <td>1</td>\n      <td>3802</td>\n      <td>None</td>\n      <td>2.893913</td>\n    </tr>\n    <tr>\n      <th>826</th>\n      <td>1</td>\n      <td>1984</td>\n      <td>None</td>\n      <td>2.872683</td>\n    </tr>\n    <tr>\n      <th>821</th>\n      <td>1</td>\n      <td>1971</td>\n      <td>None</td>\n      <td>2.837724</td>\n    </tr>\n    <tr>\n      <th>266</th>\n      <td>1</td>\n      <td>2642</td>\n      <td>None</td>\n      <td>2.826259</td>\n    </tr>\n    <tr>\n      <th>325</th>\n      <td>1</td>\n      <td>2816</td>\n      <td>None</td>\n      <td>2.816794</td>\n    </tr>\n    <tr>\n      <th>534</th>\n      <td>1</td>\n      <td>3268</td>\n      <td>None</td>\n      <td>2.807262</td>\n    </tr>\n    <tr>\n      <th>371</th>\n      <td>1</td>\n      <td>2950</td>\n      <td>None</td>\n      <td>2.806414</td>\n    </tr>\n    <tr>\n      <th>672</th>\n      <td>1</td>\n      <td>1562</td>\n      <td>None</td>\n      <td>2.777092</td>\n    </tr>\n    <tr>\n      <th>184</th>\n      <td>1</td>\n      <td>405</td>\n      <td>None</td>\n      <td>2.775107</td>\n    </tr>\n    <tr>\n      <th>617</th>\n      <td>1</td>\n      <td>3439</td>\n      <td>None</td>\n      <td>2.765792</td>\n    </tr>\n    <tr>\n      <th>1</th>\n      <td>1</td>\n      <td>2053</td>\n      <td>None</td>\n      <td>2.759776</td>\n    </tr>\n    <tr>\n      <th>313</th>\n      <td>1</td>\n      <td>737</td>\n      <td>None</td>\n      <td>2.750551</td>\n    </tr>\n    <tr>\n      <th>123</th>\n      <td>1</td>\n      <td>2338</td>\n      <td>None</td>\n      <td>2.750525</td>\n    </tr>\n    <tr>\n      <th>285</th>\n      <td>1</td>\n      <td>2701</td>\n      <td>None</td>\n      <td>2.739884</td>\n    </tr>\n    <tr>\n      <th>295</th>\n      <td>1</td>\n      <td>2720</td>\n      <td>None</td>\n      <td>2.723774</td>\n    </tr>\n    <tr>\n      <th>764</th>\n      <td>1</td>\n      <td>1760</td>\n      <td>None</td>\n      <td>2.718881</td>\n    </tr>\n    <tr>\n      <th>236</th>\n      <td>1</td>\n      <td>546</td>\n      <td>None</td>\n      <td>2.517121</td>\n    </tr>\n  </tbody>\n</table>\n<p>1683240 rows × 4 columns</p>\n</div>"
     },
     "metadata": {},
     "output_type": "execute_result",
     "execution_count": 56
    }
   ],
   "source": [
    "df = df.iloc[:,0:4]\n",
    "len(df[\"userID\"])\n",
    "df"
   ],
   "metadata": {
    "collapsed": false,
    "pycharm": {
     "name": "#%%\n",
     "is_executing": false
    }
   }
  },
  {
   "cell_type": "code",
   "execution_count": 57,
   "outputs": [],
   "source": [
    "top10 = []\n",
    "for i in range(0, len(df[\"userID\"]), len(items_set)):\n",
    "    top10.append(df[i:i+10])\n"
   ],
   "metadata": {
    "collapsed": false,
    "pycharm": {
     "name": "#%%\n",
     "is_executing": false
    }
   }
  },
  {
   "cell_type": "code",
   "execution_count": 58,
   "outputs": [
    {
     "data": {
      "text/plain": "Empty DataFrame\nColumns: [userID, recommended_itemIDs]\nIndex: []",
      "text/html": "<div>\n<style scoped>\n    .dataframe tbody tr th:only-of-type {\n        vertical-align: middle;\n    }\n\n    .dataframe tbody tr th {\n        vertical-align: top;\n    }\n\n    .dataframe thead th {\n        text-align: right;\n    }\n</style>\n<table border=\"1\" class=\"dataframe\">\n  <thead>\n    <tr style=\"text-align: right;\">\n      <th></th>\n      <th>userID</th>\n      <th>recommended_itemIDs</th>\n    </tr>\n  </thead>\n  <tbody>\n  </tbody>\n</table>\n</div>"
     },
     "metadata": {},
     "output_type": "execute_result",
     "execution_count": 58
    }
   ],
   "source": [
    "# User ID and 10 Item IDs\n",
    "cols = [\"userID\", \"recommended_itemIDs\"]\n",
    "top10_df = pd.DataFrame(columns = cols)\n",
    "\n",
    "top10_df.iloc[:,0:2]"
   ],
   "metadata": {
    "collapsed": false,
    "pycharm": {
     "name": "#%%\n",
     "is_executing": false
    }
   }
  },
  {
   "cell_type": "code",
   "execution_count": 59,
   "outputs": [],
   "source": [
    "#---------TESTING\n",
    "value = top10[0].iloc[2]['userID']"
   ],
   "metadata": {
    "collapsed": false,
    "pycharm": {
     "name": "#%%\n",
     "is_executing": false
    }
   }
  },
  {
   "cell_type": "code",
   "execution_count": 60,
   "outputs": [],
   "source": [
    "items_string = \"\"\n",
    "items_str_list = []\n",
    "users_list = []\n",
    "for elem in top10:\n",
    "    listtest = elem[\"itemID\"].tolist()\n",
    "    stringtest = str(listtest).strip('[]').replace(\",\", \" \")\n",
    "    items_str_list.append(stringtest)\n",
    "    users_list.append(elem.iloc[2]['userID'])\n"
   ],
   "metadata": {
    "collapsed": false,
    "pycharm": {
     "name": "#%%\n",
     "is_executing": false
    }
   }
  },
  {
   "cell_type": "code",
   "execution_count": 61,
   "outputs": [],
   "source": [
    "top10_df[\"recommended_itemIDs\"] = items_str_list\n",
    "top10_df[\"userID\"] = users_list"
   ],
   "metadata": {
    "collapsed": false,
    "pycharm": {
     "name": "#%%\n",
     "is_executing": false
    }
   }
  },
  {
   "cell_type": "code",
   "execution_count": 63,
   "outputs": [],
   "source": [
    "top10_df = top10_df.sort_values(\"userID\")\n"
   ],
   "metadata": {
    "collapsed": false,
    "pycharm": {
     "name": "#%%\n",
     "is_executing": false
    }
   }
  },
  {
   "cell_type": "code",
   "execution_count": 64,
   "outputs": [],
   "source": [
    "top10_df.to_csv(\"../data/competition15.csv\", index=False)"
   ],
   "metadata": {
    "collapsed": false,
    "pycharm": {
     "name": "#%%\n",
     "is_executing": false
    }
   }
  },
  {
   "cell_type": "code",
   "execution_count": null,
   "outputs": [],
   "source": [],
   "metadata": {
    "collapsed": false,
    "pycharm": {
     "name": "#%%\n",
     "is_executing": false
    }
   }
  },
  {
   "cell_type": "code",
   "execution_count": null,
   "outputs": [],
   "source": [
    "\n"
   ],
   "metadata": {
    "collapsed": false,
    "pycharm": {
     "name": "#%%\n",
     "is_executing": false
    }
   }
  }
 ],
 "metadata": {
  "kernelspec": {
   "display_name": "Python 3",
   "language": "python",
   "name": "python3"
  },
  "language_info": {
   "codemirror_mode": {
    "name": "ipython",
    "version": 2
   },
   "file_extension": ".py",
   "mimetype": "text/x-python",
   "name": "python",
   "nbconvert_exporter": "python",
   "pygments_lexer": "ipython2",
   "version": "2.7.6"
  },
  "pycharm": {
   "stem_cell": {
    "cell_type": "raw",
    "source": [],
    "metadata": {
     "collapsed": false
    }
   }
  }
 },
 "nbformat": 4,
 "nbformat_minor": 0
}