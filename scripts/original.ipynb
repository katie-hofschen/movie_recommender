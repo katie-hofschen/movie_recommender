{
 "cells": [
  {
   "cell_type": "code",
   "execution_count": 33,
   "outputs": [],
   "source": [
    "\n",
    "import pandas as pd\n",
    "import numpy as np\n",
    "from tabulate import tabulate\n",
    "\n",
    "from surprise import Reader\n",
    "from surprise import Dataset\n",
    "from surprise.model_selection import cross_validate\n",
    "from surprise.model_selection import KFold\n",
    "\n",
    "from surprise import KNNBasic\n",
    "from surprise import SVD\n",
    "from surprise import BaselineOnly\n",
    "from surprise import KNNWithZScore\n",
    "from surprise import CoClustering\n",
    "from surprise import NormalPredictor\n"
   ],
   "metadata": {
    "collapsed": false,
    "pycharm": {
     "name": "#%%\n",
     "is_executing": false
    }
   }
  },
  {
   "cell_type": "code",
   "execution_count": 34,
   "outputs": [
    {
     "data": {
      "text/plain": "   userID  itemID  rating  timeStamp\n0       5     648       5  978297876\n1       5    1394       5  978298237\n2       5    3534       5  978297149\n3       5     104       4  978298558\n4       5    2735       5  978297919",
      "text/html": "<div>\n<style scoped>\n    .dataframe tbody tr th:only-of-type {\n        vertical-align: middle;\n    }\n\n    .dataframe tbody tr th {\n        vertical-align: top;\n    }\n\n    .dataframe thead th {\n        text-align: right;\n    }\n</style>\n<table border=\"1\" class=\"dataframe\">\n  <thead>\n    <tr style=\"text-align: right;\">\n      <th></th>\n      <th>userID</th>\n      <th>itemID</th>\n      <th>rating</th>\n      <th>timeStamp</th>\n    </tr>\n  </thead>\n  <tbody>\n    <tr>\n      <th>0</th>\n      <td>5</td>\n      <td>648</td>\n      <td>5</td>\n      <td>978297876</td>\n    </tr>\n    <tr>\n      <th>1</th>\n      <td>5</td>\n      <td>1394</td>\n      <td>5</td>\n      <td>978298237</td>\n    </tr>\n    <tr>\n      <th>2</th>\n      <td>5</td>\n      <td>3534</td>\n      <td>5</td>\n      <td>978297149</td>\n    </tr>\n    <tr>\n      <th>3</th>\n      <td>5</td>\n      <td>104</td>\n      <td>4</td>\n      <td>978298558</td>\n    </tr>\n    <tr>\n      <th>4</th>\n      <td>5</td>\n      <td>2735</td>\n      <td>5</td>\n      <td>978297919</td>\n    </tr>\n  </tbody>\n</table>\n</div>"
     },
     "metadata": {},
     "output_type": "execute_result",
     "execution_count": 34
    }
   ],
   "source": [
    "train_data = pd.read_csv(\"../data/train-PDA2019.csv\")\n",
    "train_data.head()\n",
    "#train_data = train_data.iloc[:,0:3]"
   ],
   "metadata": {
    "collapsed": false,
    "pycharm": {
     "name": "#%%\n",
     "is_executing": false
    }
   }
  },
  {
   "cell_type": "code",
   "execution_count": 35,
   "outputs": [],
   "source": [
    "test_data = pd.read_csv(\"../data/test-PDA2019.csv\")\n",
    "test_data.columns = ['userID', 'recommended_itemID']"
   ],
   "metadata": {
    "collapsed": false,
    "pycharm": {
     "name": "#%%\n",
     "is_executing": false
    }
   }
  },
  {
   "cell_type": "code",
   "execution_count": 36,
   "outputs": [
    {
     "data": {
      "text/plain": "        userID  itemID  rating  timeStamp\n435825       1     919       4  978301467\n435827       1     608       4  978301445\n435828       1    2797       4  978302039\n435829       1    1545       4  978824176\n435830       1     594       4  978302292\n435826       1    1721       4  978300150\n435843       3    3108       3  978299752\n435842       3    3735       3  978298845\n435841       3    1213       2  978298496\n435840       3    1552       3  978300021\n435838       3    1957       5  978298842\n435839       3    1247       5  978298686\n435836       3    3255       4  978299346\n435835       3    3471       5  978298833\n435834       3    3418       4  978299812\n435833       3    3147       5  978298709\n435832       3    2501       5  978298629\n435831       3    3030       4  978298487\n435837       3    1196       5  978298786\n29           5    2470       4  978297844\n36           5    2081       4  978298529\n35           5    1136       5  978298090\n34           5    1968       4  978297153\n33           5    2115       4  978297808\n32           5    1961       4  978297175\n31           5    2617       2  978297910\n30           5    3168       4  978297573\n28           5    1270       5  978298247\n0            5     648       5  978297876\n26           5    1379       4  978297470\n...        ...     ...     ...        ...\n435678   12079     318       4  956704341\n435676   12079    2580       4  956705152\n435649   12079    2111       1  956716404\n435650   12079    1172       4  957717228\n435651   12079    1185       5  956715642\n435652   12079    1189       5  956715320\n435653   12079    1193       4  957716704\n435654   12079    1196       3  956715509\n435655   12079    1198       3  956715550\n435656   12079    2146       1  956716470\n435657   12079    2147       2  956716649\n435658   12079    2150       3  956715857\n435659   12079    3101       4  956715885\n435660   12079    3108       4  960971992\n435677   12079    1929       5  957716959\n435661   12079    3111       5  956704131\n435663   12079    1537       5  956704859\n435664   12079    1554       2  956704816\n435666   12079    2513       1  956716638\n435667   12079    1587       1  956716440\n435668   12079    3504       4  960971861\n435669   12079    1900       5  964828378\n435670   12079    1912       3  964828632\n435671   12079     300       2  956704812\n435672   12079    2575       4  997453802\n435673   12079    3521       5  956715595\n435674   12079    3524       1  956716299\n435675   12079    1921       4  997454548\n435662   12079    3134       5  957717175\n435824   12079    1097       4  956715600\n\n[470711 rows x 4 columns]",
      "text/html": "<div>\n<style scoped>\n    .dataframe tbody tr th:only-of-type {\n        vertical-align: middle;\n    }\n\n    .dataframe tbody tr th {\n        vertical-align: top;\n    }\n\n    .dataframe thead th {\n        text-align: right;\n    }\n</style>\n<table border=\"1\" class=\"dataframe\">\n  <thead>\n    <tr style=\"text-align: right;\">\n      <th></th>\n      <th>userID</th>\n      <th>itemID</th>\n      <th>rating</th>\n      <th>timeStamp</th>\n    </tr>\n  </thead>\n  <tbody>\n    <tr>\n      <th>435825</th>\n      <td>1</td>\n      <td>919</td>\n      <td>4</td>\n      <td>978301467</td>\n    </tr>\n    <tr>\n      <th>435827</th>\n      <td>1</td>\n      <td>608</td>\n      <td>4</td>\n      <td>978301445</td>\n    </tr>\n    <tr>\n      <th>435828</th>\n      <td>1</td>\n      <td>2797</td>\n      <td>4</td>\n      <td>978302039</td>\n    </tr>\n    <tr>\n      <th>435829</th>\n      <td>1</td>\n      <td>1545</td>\n      <td>4</td>\n      <td>978824176</td>\n    </tr>\n    <tr>\n      <th>435830</th>\n      <td>1</td>\n      <td>594</td>\n      <td>4</td>\n      <td>978302292</td>\n    </tr>\n    <tr>\n      <th>435826</th>\n      <td>1</td>\n      <td>1721</td>\n      <td>4</td>\n      <td>978300150</td>\n    </tr>\n    <tr>\n      <th>435843</th>\n      <td>3</td>\n      <td>3108</td>\n      <td>3</td>\n      <td>978299752</td>\n    </tr>\n    <tr>\n      <th>435842</th>\n      <td>3</td>\n      <td>3735</td>\n      <td>3</td>\n      <td>978298845</td>\n    </tr>\n    <tr>\n      <th>435841</th>\n      <td>3</td>\n      <td>1213</td>\n      <td>2</td>\n      <td>978298496</td>\n    </tr>\n    <tr>\n      <th>435840</th>\n      <td>3</td>\n      <td>1552</td>\n      <td>3</td>\n      <td>978300021</td>\n    </tr>\n    <tr>\n      <th>435838</th>\n      <td>3</td>\n      <td>1957</td>\n      <td>5</td>\n      <td>978298842</td>\n    </tr>\n    <tr>\n      <th>435839</th>\n      <td>3</td>\n      <td>1247</td>\n      <td>5</td>\n      <td>978298686</td>\n    </tr>\n    <tr>\n      <th>435836</th>\n      <td>3</td>\n      <td>3255</td>\n      <td>4</td>\n      <td>978299346</td>\n    </tr>\n    <tr>\n      <th>435835</th>\n      <td>3</td>\n      <td>3471</td>\n      <td>5</td>\n      <td>978298833</td>\n    </tr>\n    <tr>\n      <th>435834</th>\n      <td>3</td>\n      <td>3418</td>\n      <td>4</td>\n      <td>978299812</td>\n    </tr>\n    <tr>\n      <th>435833</th>\n      <td>3</td>\n      <td>3147</td>\n      <td>5</td>\n      <td>978298709</td>\n    </tr>\n    <tr>\n      <th>435832</th>\n      <td>3</td>\n      <td>2501</td>\n      <td>5</td>\n      <td>978298629</td>\n    </tr>\n    <tr>\n      <th>435831</th>\n      <td>3</td>\n      <td>3030</td>\n      <td>4</td>\n      <td>978298487</td>\n    </tr>\n    <tr>\n      <th>435837</th>\n      <td>3</td>\n      <td>1196</td>\n      <td>5</td>\n      <td>978298786</td>\n    </tr>\n    <tr>\n      <th>29</th>\n      <td>5</td>\n      <td>2470</td>\n      <td>4</td>\n      <td>978297844</td>\n    </tr>\n    <tr>\n      <th>36</th>\n      <td>5</td>\n      <td>2081</td>\n      <td>4</td>\n      <td>978298529</td>\n    </tr>\n    <tr>\n      <th>35</th>\n      <td>5</td>\n      <td>1136</td>\n      <td>5</td>\n      <td>978298090</td>\n    </tr>\n    <tr>\n      <th>34</th>\n      <td>5</td>\n      <td>1968</td>\n      <td>4</td>\n      <td>978297153</td>\n    </tr>\n    <tr>\n      <th>33</th>\n      <td>5</td>\n      <td>2115</td>\n      <td>4</td>\n      <td>978297808</td>\n    </tr>\n    <tr>\n      <th>32</th>\n      <td>5</td>\n      <td>1961</td>\n      <td>4</td>\n      <td>978297175</td>\n    </tr>\n    <tr>\n      <th>31</th>\n      <td>5</td>\n      <td>2617</td>\n      <td>2</td>\n      <td>978297910</td>\n    </tr>\n    <tr>\n      <th>30</th>\n      <td>5</td>\n      <td>3168</td>\n      <td>4</td>\n      <td>978297573</td>\n    </tr>\n    <tr>\n      <th>28</th>\n      <td>5</td>\n      <td>1270</td>\n      <td>5</td>\n      <td>978298247</td>\n    </tr>\n    <tr>\n      <th>0</th>\n      <td>5</td>\n      <td>648</td>\n      <td>5</td>\n      <td>978297876</td>\n    </tr>\n    <tr>\n      <th>26</th>\n      <td>5</td>\n      <td>1379</td>\n      <td>4</td>\n      <td>978297470</td>\n    </tr>\n    <tr>\n      <th>...</th>\n      <td>...</td>\n      <td>...</td>\n      <td>...</td>\n      <td>...</td>\n    </tr>\n    <tr>\n      <th>435678</th>\n      <td>12079</td>\n      <td>318</td>\n      <td>4</td>\n      <td>956704341</td>\n    </tr>\n    <tr>\n      <th>435676</th>\n      <td>12079</td>\n      <td>2580</td>\n      <td>4</td>\n      <td>956705152</td>\n    </tr>\n    <tr>\n      <th>435649</th>\n      <td>12079</td>\n      <td>2111</td>\n      <td>1</td>\n      <td>956716404</td>\n    </tr>\n    <tr>\n      <th>435650</th>\n      <td>12079</td>\n      <td>1172</td>\n      <td>4</td>\n      <td>957717228</td>\n    </tr>\n    <tr>\n      <th>435651</th>\n      <td>12079</td>\n      <td>1185</td>\n      <td>5</td>\n      <td>956715642</td>\n    </tr>\n    <tr>\n      <th>435652</th>\n      <td>12079</td>\n      <td>1189</td>\n      <td>5</td>\n      <td>956715320</td>\n    </tr>\n    <tr>\n      <th>435653</th>\n      <td>12079</td>\n      <td>1193</td>\n      <td>4</td>\n      <td>957716704</td>\n    </tr>\n    <tr>\n      <th>435654</th>\n      <td>12079</td>\n      <td>1196</td>\n      <td>3</td>\n      <td>956715509</td>\n    </tr>\n    <tr>\n      <th>435655</th>\n      <td>12079</td>\n      <td>1198</td>\n      <td>3</td>\n      <td>956715550</td>\n    </tr>\n    <tr>\n      <th>435656</th>\n      <td>12079</td>\n      <td>2146</td>\n      <td>1</td>\n      <td>956716470</td>\n    </tr>\n    <tr>\n      <th>435657</th>\n      <td>12079</td>\n      <td>2147</td>\n      <td>2</td>\n      <td>956716649</td>\n    </tr>\n    <tr>\n      <th>435658</th>\n      <td>12079</td>\n      <td>2150</td>\n      <td>3</td>\n      <td>956715857</td>\n    </tr>\n    <tr>\n      <th>435659</th>\n      <td>12079</td>\n      <td>3101</td>\n      <td>4</td>\n      <td>956715885</td>\n    </tr>\n    <tr>\n      <th>435660</th>\n      <td>12079</td>\n      <td>3108</td>\n      <td>4</td>\n      <td>960971992</td>\n    </tr>\n    <tr>\n      <th>435677</th>\n      <td>12079</td>\n      <td>1929</td>\n      <td>5</td>\n      <td>957716959</td>\n    </tr>\n    <tr>\n      <th>435661</th>\n      <td>12079</td>\n      <td>3111</td>\n      <td>5</td>\n      <td>956704131</td>\n    </tr>\n    <tr>\n      <th>435663</th>\n      <td>12079</td>\n      <td>1537</td>\n      <td>5</td>\n      <td>956704859</td>\n    </tr>\n    <tr>\n      <th>435664</th>\n      <td>12079</td>\n      <td>1554</td>\n      <td>2</td>\n      <td>956704816</td>\n    </tr>\n    <tr>\n      <th>435666</th>\n      <td>12079</td>\n      <td>2513</td>\n      <td>1</td>\n      <td>956716638</td>\n    </tr>\n    <tr>\n      <th>435667</th>\n      <td>12079</td>\n      <td>1587</td>\n      <td>1</td>\n      <td>956716440</td>\n    </tr>\n    <tr>\n      <th>435668</th>\n      <td>12079</td>\n      <td>3504</td>\n      <td>4</td>\n      <td>960971861</td>\n    </tr>\n    <tr>\n      <th>435669</th>\n      <td>12079</td>\n      <td>1900</td>\n      <td>5</td>\n      <td>964828378</td>\n    </tr>\n    <tr>\n      <th>435670</th>\n      <td>12079</td>\n      <td>1912</td>\n      <td>3</td>\n      <td>964828632</td>\n    </tr>\n    <tr>\n      <th>435671</th>\n      <td>12079</td>\n      <td>300</td>\n      <td>2</td>\n      <td>956704812</td>\n    </tr>\n    <tr>\n      <th>435672</th>\n      <td>12079</td>\n      <td>2575</td>\n      <td>4</td>\n      <td>997453802</td>\n    </tr>\n    <tr>\n      <th>435673</th>\n      <td>12079</td>\n      <td>3521</td>\n      <td>5</td>\n      <td>956715595</td>\n    </tr>\n    <tr>\n      <th>435674</th>\n      <td>12079</td>\n      <td>3524</td>\n      <td>1</td>\n      <td>956716299</td>\n    </tr>\n    <tr>\n      <th>435675</th>\n      <td>12079</td>\n      <td>1921</td>\n      <td>4</td>\n      <td>997454548</td>\n    </tr>\n    <tr>\n      <th>435662</th>\n      <td>12079</td>\n      <td>3134</td>\n      <td>5</td>\n      <td>957717175</td>\n    </tr>\n    <tr>\n      <th>435824</th>\n      <td>12079</td>\n      <td>1097</td>\n      <td>4</td>\n      <td>956715600</td>\n    </tr>\n  </tbody>\n</table>\n<p>470711 rows × 4 columns</p>\n</div>"
     },
     "metadata": {},
     "output_type": "execute_result",
     "execution_count": 36
    }
   ],
   "source": [
    "train_data.sort_values(\"userID\")\n"
   ],
   "metadata": {
    "collapsed": false,
    "pycharm": {
     "name": "#%%\n",
     "is_executing": false
    }
   }
  },
  {
   "cell_type": "code",
   "execution_count": 37,
   "outputs": [
    {
     "data": {
      "text/plain": "\"\\nrecommenders = (SVD, KNNBasic, BaselineOnly, KNNWithZScore, CoClustering, NormalPredictor)\\ntitles = ('SVD','KNN-Basic','KNN-Baseline','KNNWithZScore','CoClustering','Baseline','Random')\\n\\n\\nkf = KFold(random_state=0)\\n\\ntable = []\\nfold_n = 0\\nfor rec in recommenders:\\n    out = cross_validate(rec(), data, ['rmse','mae','fcp'],kf)\\n    mean_rmse = '{:.3f}'.format(np.mean(out['test_rmse']))\\n    mean_mae = '{:.3f}'.format(np.mean(out['test_mae']))\\n    mean_fcp = '{:.3f}'.format(np.mean(out['test_fcp']))\\n    \\n    new_line = [titles[fold_n], mean_rmse, mean_mae, mean_fcp]\\n    table.append(new_line)\\n    fold_n += 1 \\n\""
     },
     "metadata": {},
     "output_type": "execute_result",
     "execution_count": 37
    }
   ],
   "source": [
    "# I commented this code out as it takes too long to run\n",
    "'''\n",
    "recommenders = (SVD, KNNBasic, BaselineOnly, KNNWithZScore, CoClustering, NormalPredictor)\n",
    "titles = ('SVD','KNN-Basic','KNN-Baseline','KNNWithZScore','CoClustering','Random')\n",
    "\n",
    "\n",
    "kf = KFold(random_state=0)\n",
    "\n",
    "table = []\n",
    "fold_n = 0\n",
    "for rec in recommenders:\n",
    "    out = cross_validate(rec(), data, ['rmse','mae','fcp'],kf)\n",
    "    mean_rmse = '{:.3f}'.format(np.mean(out['test_rmse']))\n",
    "    mean_mae = '{:.3f}'.format(np.mean(out['test_mae']))\n",
    "    mean_fcp = '{:.3f}'.format(np.mean(out['test_fcp']))\n",
    "    \n",
    "    new_line = [titles[fold_n], mean_rmse, mean_mae, mean_fcp]\n",
    "    table.append(new_line)\n",
    "    fold_n += 1 \n",
    "'''"
   ],
   "metadata": {
    "collapsed": false,
    "pycharm": {
     "name": "#%%\n",
     "is_executing": false
    }
   }
  },
  {
   "cell_type": "code",
   "execution_count": 38,
   "outputs": [
    {
     "data": {
      "text/plain": "\"\\nheader = ['Recommenders','Pred Accuracy (RMSE)','Pred Accuracy (MAE)', 'Rank quality (FCP)']\\n\\nprint(tabulate(table, header, tablefmt='pipe'))\\n\\n| Recommenders   |   Pred Accuracy (RMSE) |   Pred Accuracy (MAE) |   Rank quality (FCP) | \\n|:---------------|-----------------------:|----------------------:|---------------------:|\\n| SVD            |                  0.885 |                 0.695 |                0.72  |\\n| KNN-Basic      |                  0.932 |                 0.731 |                0.715 |\\n| KNN-Baseline   |                  0.903 |                 0.713 |                0.707 |\\n| KNNWithZScore  |                  0.929 |                 0.734 |                0.704 |\\n| CoClustering   |                  0.91  |                 0.711 |                0.714 |\\n| Baseline       |                  1.48  |                 1.184 |                0.496 |\\n\""
     },
     "metadata": {},
     "output_type": "execute_result",
     "execution_count": 38
    }
   ],
   "source": [
    "'''\n",
    "header = ['Recommenders','Pred Accuracy (RMSE)','Pred Accuracy (MAE)', 'Rank quality (FCP)']\n",
    "\n",
    "print(tabulate(table, header, tablefmt='pipe'))\n",
    "\n",
    "| Recommenders   |   Pred Accuracy (RMSE) |   Pred Accuracy (MAE) |   Rank quality (FCP) | \n",
    "|:---------------|-----------------------:|----------------------:|---------------------:|\n",
    "| SVD            |                  0.885 |                 0.695 |                0.72  |\n",
    "| KNN-Basic      |                  0.932 |                 0.731 |                0.715 |\n",
    "| KNN-Baseline   |                  0.903 |                 0.713 |                0.707 |\n",
    "| KNNWithZScore  |                  0.929 |                 0.734 |                0.704 |\n",
    "| CoClustering   |                  0.91  |                 0.711 |                0.714 |\n",
    "| Random         |                  1.48  |                 1.184 |                0.496 |\n",
    "'''"
   ],
   "metadata": {
    "collapsed": false,
    "pycharm": {
     "name": "#%%\n",
     "is_executing": false
    }
   }
  },
  {
   "cell_type": "code",
   "execution_count": 39,
   "outputs": [],
   "source": [
    "#Because the Rank is high and the Errors are smaller for SVD I will continue with this recommender\n",
    "\n",
    "#[U,S,V] = np.linalg.svd(train_data)\n",
    "#print(\"---------U-------\")\n",
    "#print(U)\n",
    "#print(\"---------S-------\")\n",
    "#print(S)\n",
    "#print(\"---------V-------\")\n",
    "#print(V)\n",
    "\n"
   ],
   "metadata": {
    "collapsed": false,
    "pycharm": {
     "name": "#%%\n",
     "is_executing": false
    }
   }
  },
  {
   "cell_type": "code",
   "execution_count": 40,
   "outputs": [],
   "source": [
    "\n",
    "#####----------------- SVD ------------------\n"
   ],
   "metadata": {
    "collapsed": false,
    "pycharm": {
     "name": "#%%\n",
     "is_executing": false
    }
   }
  },
  {
   "cell_type": "code",
   "execution_count": 41,
   "outputs": [],
   "source": [
    "reader = Reader(rating_scale=(1,5))\n",
    "data = Dataset.load_from_df(train_data[['userID', 'itemID','rating']], reader)\n"
   ],
   "metadata": {
    "collapsed": false,
    "pycharm": {
     "name": "#%%\n",
     "is_executing": false
    }
   }
  },
  {
   "cell_type": "code",
   "execution_count": 42,
   "outputs": [],
   "source": [
    "rating_df = data.build_full_trainset()"
   ],
   "metadata": {
    "collapsed": false,
    "pycharm": {
     "name": "#%%\n",
     "is_executing": false
    }
   }
  },
  {
   "cell_type": "code",
   "execution_count": 43,
   "outputs": [],
   "source": [
    "user_rating = rating_df.ur\n",
    "item_rating = rating_df.ir\n",
    "num_users = rating_df.n_users\n",
    "num_items = rating_df.n_items\n",
    "num_ratings = rating_df.n_ratings\n",
    "\n",
    "\n",
    "mean_ = rating_df.global_mean\n",
    "mean_ = np.round(mean_, decimals=2)\n",
    "\n",
    "density_ = num_ratings/(num_users*num_items)\n",
    "sparsity_ = 1 - density_"
   ],
   "metadata": {
    "collapsed": false,
    "pycharm": {
     "name": "#%%\n",
     "is_executing": false
    }
   }
  },
  {
   "cell_type": "code",
   "execution_count": 44,
   "outputs": [
    {
     "name": "stdout",
     "text": [
      "Users 5690\nitems 1824\nratings  470711\nMean rating 3.64\ndensity  4.5354172447815495 %\nsparsity  95.46458275521846 %\n"
     ],
     "output_type": "stream"
    }
   ],
   "source": [
    "print(\"Users\", num_users)\n",
    "print(\"items\", num_items)\n",
    "print(\"ratings \", num_ratings)\n",
    "print(\"Mean rating\", mean_)\n",
    "print(\"density \" ,density_ *100, \"%\")\n",
    "print(\"sparsity \", sparsity_ *100 ,\"%\")"
   ],
   "metadata": {
    "collapsed": false,
    "pycharm": {
     "name": "#%%\n",
     "is_executing": false
    }
   }
  },
  {
   "cell_type": "code",
   "execution_count": 45,
   "outputs": [],
   "source": [
    "recommender = SVD()"
   ],
   "metadata": {
    "collapsed": false,
    "pycharm": {
     "name": "#%%\n",
     "is_executing": false
    }
   }
  },
  {
   "cell_type": "code",
   "execution_count": 46,
   "outputs": [
    {
     "data": {
      "text/plain": "<surprise.prediction_algorithms.matrix_factorization.SVD at 0x11b40df0>"
     },
     "metadata": {},
     "output_type": "execute_result",
     "execution_count": 46
    }
   ],
   "source": [
    "recommender.fit(rating_df)\n",
    "# output <surprise.prediction_algorithms.matrix_factorization.SVD at 0x18664ff0>"
   ],
   "metadata": {
    "collapsed": false,
    "pycharm": {
     "name": "#%%\n",
     "is_executing": false
    }
   }
  },
  {
   "cell_type": "code",
   "execution_count": 47,
   "outputs": [
    {
     "name": "stdout",
     "text": [
      "number of factors used:  100\n"
     ],
     "output_type": "stream"
    }
   ],
   "source": [
    "print(\"number of factors used: \", recommender.n_factors)\n",
    "#output: number of factors used:  100\n"
   ],
   "metadata": {
    "collapsed": false,
    "pycharm": {
     "name": "#%%\n",
     "is_executing": false
    }
   }
  },
  {
   "cell_type": "code",
   "execution_count": 48,
   "outputs": [
    {
     "name": "stdout",
     "text": [
      "3.4\nuser: 1          item: 104        r_ui = None   est = 3.37   {'was_impossible': False}\n<class 'surprise.prediction_algorithms.predictions.Prediction'>\n"
     ],
     "output_type": "stream"
    }
   ],
   "source": [
    "userid = 1\n",
    "itemid = 104\n",
    "true_rating = 4.0\n",
    "\n",
    "pred = recommender.predict(userid,itemid)\n",
    "pred_rating = np.around(pred.est, decimals=1)\n",
    "print(pred_rating)\n",
    "print (pred)\n",
    "print(type(pred))"
   ],
   "metadata": {
    "collapsed": false,
    "pycharm": {
     "name": "#%%\n",
     "is_executing": false
    }
   }
  },
  {
   "cell_type": "code",
   "execution_count": 49,
   "outputs": [
    {
     "name": "stderr",
     "text": [
      "c:\\users\\katha\\appdata\\local\\programs\\python\\python37-32\\lib\\site-packages\\ipykernel_launcher.py:4: FutureWarning: Method .as_matrix will be removed in a future version. Use .values instead.\n  after removing the cwd from sys.path.\n"
     ],
     "output_type": "stream"
    },
    {
     "data": {
      "text/plain": "849"
     },
     "metadata": {},
     "output_type": "execute_result",
     "execution_count": 49
    }
   ],
   "source": [
    "#Get a set of unique items that were rated in training data\n",
    "items_train = train_data[\"itemID\"]\n",
    "items = items_train.sort_values()\n",
    "items = items.as_matrix(items)\n",
    "items_set = set(items)\n",
    "len(items_set)\n",
    "#len(items)"
   ],
   "metadata": {
    "collapsed": false,
    "pycharm": {
     "name": "#%%\n",
     "is_executing": false
    }
   }
  },
  {
   "cell_type": "code",
   "execution_count": 50,
   "outputs": [
    {
     "name": "stderr",
     "text": [
      "c:\\users\\katha\\appdata\\local\\programs\\python\\python37-32\\lib\\site-packages\\ipykernel_launcher.py:2: FutureWarning: Method .as_matrix will be removed in a future version. Use .values instead.\n  \n"
     ],
     "output_type": "stream"
    },
    {
     "data": {
      "text/plain": "array([    1,     3,    11, ..., 12061, 12063, 12073], dtype=int64)"
     },
     "metadata": {},
     "output_type": "execute_result",
     "execution_count": 50
    }
   ],
   "source": [
    "#Get an array of users in the test data\n",
    "users_test = test_data[\"userID\"].as_matrix()\n",
    "#test_data.as_matrix(test_data, columns= 0)\n",
    "users_test"
   ],
   "metadata": {
    "collapsed": false,
    "pycharm": {
     "name": "#%%\n",
     "is_executing": false
    }
   }
  },
  {
   "cell_type": "code",
   "execution_count": 51,
   "outputs": [],
   "source": [
    "#all_recommendations = pd.DataFrame(columns=[\"userID\",\"itemID\",\"recommendation estimate\"])\n",
    "#all_recommendations[\"userID\"] = users_test\n",
    "#all_recommendations"
   ],
   "metadata": {
    "collapsed": false,
    "pycharm": {
     "name": "#%%\n",
     "is_executing": false
    }
   }
  },
  {
   "cell_type": "code",
   "execution_count": 52,
   "outputs": [],
   "source": [
    "predictions = []\n",
    "\n",
    "i = 0\n",
    "for user in users_test:\n",
    "    for item in items_set:\n",
    "        predictions += recommender.predict(user,item)\n",
    "    i += 1"
   ],
   "metadata": {
    "collapsed": false,
    "pycharm": {
     "name": "#%%\n",
     "is_executing": false
    }
   }
  },
  {
   "cell_type": "code",
   "execution_count": 53,
   "outputs": [
    {
     "data": {
      "text/plain": "[1,\n 2050,\n None,\n 2.6667682349954136,\n {'was_impossible': False},\n 1,\n 2053,\n None,\n 2.2241146727026253,\n {'was_impossible': False},\n 1,\n 2054,\n None,\n 2.903004211596921,\n {'was_impossible': False},\n 1,\n 2057,\n None,\n 3.6242901464265023,\n {'was_impossible': False},\n 1,\n 2058,\n None,\n 3.5653246611867044,\n {'was_impossible': False},\n 1,\n 2059,\n None,\n 3.2866877188468857,\n {'was_impossible': False},\n 1,\n 2064,\n None,\n 4.490379623046693,\n {'was_impossible': False},\n 1,\n 2065,\n None,\n 3.77938464839756,\n {'was_impossible': False},\n 1,\n 2067,\n None,\n 4.17796772393318,\n {'was_impossible': False},\n 1,\n 2077,\n None,\n 3.56633926702054,\n {'was_impossible': False},\n 1,\n 2078,\n None,\n 3.8326461463592034,\n {'was_impossible': False},\n 1,\n 2080,\n None,\n 3.874518949423004,\n {'was_impossible': False},\n 1,\n 2081,\n None,\n 3.8383074119401486,\n {'was_impossible': False},\n 1,\n 2082,\n None,\n 3.0375067018303343,\n {'was_impossible': False},\n 1,\n 2083,\n None,\n 3.899911813903294,\n {'was_impossible': False},\n 1,\n 2085,\n None,\n 3.8417593617506554,\n {'was_impossible': False},\n 1,\n 2087,\n None,\n 3.8543049488831644,\n {'was_impossible': False},\n 1,\n 2090,\n None,\n 3.6295819043744566,\n {'was_impossible': False},\n 1,\n 2094,\n None,\n 3.1993746108731846,\n {'was_impossible': False},\n 1,\n 2096,\n None,\n 3.825761299641174,\n {'was_impossible': False},\n 1,\n 2100,\n None,\n 3.2188937282222185,\n {'was_impossible': False},\n 1,\n 2105,\n None,\n 3.4784590458572695,\n {'was_impossible': False},\n 1,\n 2106,\n None,\n 3.3715380420970535,\n {'was_impossible': False},\n 1,\n 2109,\n None,\n 3.7505128791280935,\n {'was_impossible': False},\n 1,\n 2111,\n None,\n 3.243409716000264,\n {'was_impossible': False},\n 1,\n 2114,\n None,\n 3.9604850250562174,\n {'was_impossible': False},\n 1,\n 2115,\n None,\n 4.019533050007733,\n {'was_impossible': False},\n 1,\n 2117,\n None,\n 3.6741684585607173,\n {'was_impossible': False},\n 1,\n 2118,\n None,\n 3.555872674214842,\n {'was_impossible': False},\n 1,\n 2119,\n None,\n 2.2257271910381986,\n {'was_impossible': False},\n 1,\n 2124,\n None,\n 3.2885104397347296,\n {'was_impossible': False},\n 1,\n 2132,\n None,\n 3.8945260961366044,\n {'was_impossible': False},\n 1,\n 2133,\n None,\n 3.0653039951274974,\n {'was_impossible': False},\n 1,\n 2135,\n None,\n 3.4362966427653396,\n {'was_impossible': False},\n 1,\n 2136,\n None,\n 3.247727807126526,\n {'was_impossible': False},\n 1,\n 2137,\n None,\n 3.962207738638087,\n {'was_impossible': False},\n 1,\n 2138,\n None,\n 3.917310913539321,\n {'was_impossible': False},\n 1,\n 2139,\n None,\n 3.9603780826642567,\n {'was_impossible': False},\n 1,\n 2140,\n None,\n 3.712572177907358,\n {'was_impossible': False},\n 1,\n 93,\n None,\n 2.2369432942210308,\n {'was_impossible': False},\n 1,\n 94,\n None,\n 3.9062729845828685,\n {'was_impossible': False},\n 1,\n 95,\n None,\n 3.159913273836473,\n {'was_impossible': False},\n 1,\n 2144,\n None,\n 3.802960883449543,\n {'was_impossible': False},\n 1,\n 2145,\n None,\n 3.4520860084008347,\n {'was_impossible': False},\n 1,\n 100,\n None,\n 3.2873898983894585,\n {'was_impossible': False},\n 1,\n 2149,\n None,\n 2.521225458950785,\n {'was_impossible': False},\n 1,\n 105,\n None,\n 3.1554411695185447,\n {'was_impossible': False},\n 1,\n 107,\n None,\n 3.4022484881454265,\n {'was_impossible': False},\n 1,\n 111,\n None,\n 4.277850895334657,\n {'was_impossible': False},\n 1,\n 2160,\n None,\n 3.916130660722479,\n {'was_impossible': False},\n 1,\n 2161,\n None,\n 3.580986276949154,\n {'was_impossible': False},\n 1,\n 2162,\n None,\n 2.582790185664734,\n {'was_impossible': False},\n 1,\n 2165,\n None,\n 3.3916231860121053,\n {'was_impossible': False},\n 1,\n 2166,\n None,\n 3.67304621098126,\n {'was_impossible': False},\n 1,\n 123,\n None,\n 3.9662880375084466,\n {'was_impossible': False},\n 1,\n 2171,\n None,\n 3.9226979228471865,\n {'was_impossible': False},\n 1,\n 2186,\n None,\n 4.249163310401327,\n {'was_impossible': False},\n 1,\n 2193,\n None,\n 3.7355712558955716,\n {'was_impossible': False},\n 1,\n 2195,\n None,\n 2.8131034190862803,\n {'was_impossible': False},\n 1,\n 150,\n None,\n 4.094766016013158,\n {'was_impossible': False},\n 1,\n 151,\n None,\n 3.85671033490139,\n {'was_impossible': False},\n 1,\n 153,\n None,\n 2.6192187845865407,\n {'was_impossible': False},\n 1,\n 154,\n None,\n 3.7350318119325285,\n {'was_impossible': False},\n 1,\n 158,\n None,\n 2.807849872682952,\n {'was_impossible': False},\n 1,\n 161,\n None,\n 3.802157506030758,\n {'was_impossible': False},\n 1,\n 163,\n None,\n 3.793005114869411,\n {'was_impossible': False},\n 1,\n 164,\n None,\n 3.7560673950466343,\n {'was_impossible': False},\n 1,\n 165,\n None,\n 3.7402512932669625,\n {'was_impossible': False},\n 1,\n 178,\n None,\n 3.357113153451809,\n {'was_impossible': False},\n 1,\n 180,\n None,\n 3.42968982438094,\n {'was_impossible': False},\n 1,\n 2232,\n None,\n 3.35525435014556,\n {'was_impossible': False},\n 1,\n 185,\n None,\n 3.1002406862609906,\n {'was_impossible': False},\n 1,\n 186,\n None,\n 2.6562125283776217,\n {'was_impossible': False},\n 1,\n 2241,\n None,\n 2.5465080188979425,\n {'was_impossible': False},\n 1,\n 2243,\n None,\n 3.9644419106589575,\n {'was_impossible': False},\n 1,\n 196,\n None,\n 2.7281331462664173,\n {'was_impossible': False},\n 1,\n 198,\n None,\n 3.5677709910291977,\n {'was_impossible': False},\n 1,\n 199,\n None,\n 3.9271900804561675,\n {'was_impossible': False},\n 1,\n 2248,\n None,\n 4.152847774547263,\n {'was_impossible': False},\n 1,\n 2252,\n None,\n 3.1200852518128452,\n {'was_impossible': False},\n 1,\n 2253,\n None,\n 2.335978962291188,\n {'was_impossible': False},\n 1,\n 216,\n None,\n 3.2583245032890633,\n {'was_impossible': False},\n 1,\n 2264,\n None,\n 2.86211177415907,\n {'was_impossible': False},\n 1,\n 2269,\n None,\n 2.840714812378797,\n {'was_impossible': False},\n 1,\n 223,\n None,\n 4.025155825834141,\n {'was_impossible': False},\n 1,\n 224,\n None,\n 3.595577905410643,\n {'was_impossible': False},\n 1,\n 2273,\n None,\n 3.611458920849823,\n {'was_impossible': False},\n 1,\n 229,\n None,\n 3.5660966716837397,\n {'was_impossible': False},\n 1,\n 231,\n None,\n 3.0524533804302756,\n {'was_impossible': False},\n 1,\n 232,\n None,\n 4.212934796889581,\n {'was_impossible': False},\n 1,\n 2282,\n None,\n 3.4474480505887355,\n {'was_impossible': False},\n 1,\n 235,\n None,\n 3.6177071349191787,\n {'was_impossible': False},\n 1,\n 2288,\n None,\n 3.5003330937446817,\n {'was_impossible': False},\n 1,\n 2289,\n None,\n 4.057340914082991,\n {'was_impossible': False},\n 1,\n 2291,\n None,\n 3.579197945097268,\n {'was_impossible': False},\n 1,\n 2294,\n None,\n 3.6549247042731903,\n {'was_impossible': False},\n 1,\n 247,\n None,\n 3.8822859435077977,\n {'was_impossible': False},\n 1,\n 248,\n None,\n 2.9804133168211764,\n {'was_impossible': False},\n 1,\n 2296,\n None,\n 2.4125379367508764,\n {'was_impossible': False},\n 1,\n 249,\n None,\n 3.6177138310895622,\n {'was_impossible': False},\n 1,\n 246,\n None,\n 4.423083760412516,\n {'was_impossible': False},\n 1,\n 2300,\n None,\n 4.238013846706231,\n {'was_impossible': False},\n 1,\n 253,\n None,\n 3.5915584277329877,\n {'was_impossible': False},\n 1,\n 2302,\n None,\n 3.799950310935991,\n {'was_impossible': False},\n 1,\n 2303,\n None,\n 3.858133459039114,\n {'was_impossible': False},\n 1,\n 256,\n None,\n 2.9855434589188103,\n {'was_impossible': False},\n 1,\n 257,\n None,\n 3.612898277772044,\n {'was_impossible': False},\n 1,\n 260,\n None,\n 4.878179365706312,\n {'was_impossible': False},\n 1,\n 2311,\n None,\n 3.6197561159773675,\n {'was_impossible': False},\n 1,\n 2312,\n None,\n 3.649641946519353,\n {'was_impossible': False},\n 1,\n 265,\n None,\n 4.10718730588196,\n {'was_impossible': False},\n 1,\n 266,\n None,\n 3.220449728974794,\n {'was_impossible': False},\n 1,\n 2322,\n None,\n 2.9379835656109505,\n {'was_impossible': False},\n 1,\n 2324,\n None,\n 4.54956272376599,\n {'was_impossible': False},\n 1,\n 2328,\n None,\n 2.9881733578339236,\n {'was_impossible': False},\n 1,\n 2329,\n None,\n 4.518411669439698,\n {'was_impossible': False},\n 1,\n 282,\n None,\n 3.4334992542888836,\n {'was_impossible': False},\n 1,\n 2331,\n None,\n 3.5210238558158125,\n {'was_impossible': False},\n 1,\n 2336,\n None,\n 4.20162580071756,\n {'was_impossible': False},\n 1,\n 288,\n None,\n 3.0392715456031705,\n {'was_impossible': False},\n 1,\n 2338,\n None,\n 2.3907635140229995,\n {'was_impossible': False},\n 1,\n 290,\n None,\n 4.132546687168508,\n {'was_impossible': False},\n 1,\n 2346,\n None,\n 3.5381678369380882,\n {'was_impossible': False},\n 1,\n 2348,\n None,\n 3.537325763722222,\n {'was_impossible': False},\n 1,\n 300,\n None,\n 4.009456156593668,\n {'was_impossible': False},\n 1,\n 2353,\n None,\n 3.7458980403588122,\n {'was_impossible': False},\n 1,\n 2355,\n None,\n 3.969297033369099,\n {'was_impossible': False},\n 1,\n 316,\n None,\n 3.5562733518104754,\n {'was_impossible': False},\n 1,\n 318,\n None,\n 4.705194220632995,\n {'was_impossible': False},\n 1,\n 2366,\n None,\n 3.6858918121573874,\n {'was_impossible': False},\n 1,\n 322,\n None,\n 3.784895860603139,\n {'was_impossible': False},\n 1,\n 2371,\n None,\n 3.707133917749518,\n {'was_impossible': False},\n 1,\n 327,\n None,\n 2.6010064357076845,\n {'was_impossible': False},\n 1,\n 2376,\n None,\n 3.560930334812776,\n {'was_impossible': False},\n 1,\n 329,\n None,\n 3.322351952373563,\n {'was_impossible': False},\n 1,\n 2378,\n None,\n 3.15823965563331,\n {'was_impossible': False},\n 1,\n 2384,\n None,\n 3.541325921488804,\n {'was_impossible': False},\n 1,\n 337,\n None,\n 4.006784278263131,\n {'was_impossible': False},\n 1,\n 339,\n None,\n 3.6917663727586874,\n {'was_impossible': False},\n 1,\n 342,\n None,\n 3.9354718575570966,\n {'was_impossible': False},\n 1,\n 2391,\n None,\n 3.9162240080368784,\n {'was_impossible': False},\n 1,\n 344,\n None,\n 3.2003077267952427,\n {'was_impossible': False},\n 1,\n 2393,\n None,\n 3.400401212939867,\n {'was_impossible': False},\n 1,\n 2394,\n None,\n 3.6650234227275647,\n {'was_impossible': False},\n 1,\n 2392,\n None,\n 2.301029660308917,\n {'was_impossible': False},\n 1,\n 2396,\n None,\n 3.975707143499764,\n {'was_impossible': False},\n 1,\n 348,\n None,\n 4.135600610387609,\n {'was_impossible': False},\n 1,\n 350,\n None,\n 3.44101649375911,\n {'was_impossible': False},\n 1,\n 2399,\n None,\n 2.6930020564507267,\n {'was_impossible': False},\n 1,\n 2401,\n None,\n 3.718374664392799,\n {'was_impossible': False},\n 1,\n 353,\n None,\n 3.6281378714126804,\n {'was_impossible': False},\n 1,\n 355,\n None,\n 2.587362161685919,\n {'was_impossible': False},\n 1,\n 357,\n None,\n 3.9203192269319938,\n {'was_impossible': False},\n 1,\n 2405,\n None,\n 3.218039383804107,\n {'was_impossible': False},\n 1,\n 2407,\n None,\n 3.555393763482352,\n {'was_impossible': False},\n 1,\n 358,\n None,\n 3.134492159094901,\n {'was_impossible': False},\n 1,\n 361,\n None,\n 3.6635393074573575,\n {'was_impossible': False},\n 1,\n 2410,\n None,\n 2.9787634985228317,\n {'was_impossible': False},\n 1,\n 2413,\n None,\n 3.1497445422645853,\n {'was_impossible': False},\n 1,\n 365,\n None,\n 3.244466080767591,\n {'was_impossible': False},\n 1,\n 367,\n None,\n 3.436034849522392,\n {'was_impossible': False},\n 1,\n 368,\n None,\n 3.4892009058656233,\n {'was_impossible': False},\n 1,\n 2416,\n None,\n 3.1588275076820898,\n {'was_impossible': False},\n 1,\n 370,\n None,\n 3.076710377838985,\n {'was_impossible': False},\n 1,\n 2421,\n None,\n 3.058259056219479,\n {'was_impossible': False},\n 1,\n 374,\n None,\n 2.101517879165882,\n {'was_impossible': False},\n 1,\n 2423,\n None,\n 3.6909316272530788,\n {'was_impossible': False},\n 1,\n 2424,\n None,\n 3.662701320144489,\n {'was_impossible': False},\n 1,\n 377,\n None,\n 3.469710094345353,\n {'was_impossible': False},\n 1,\n 2428,\n None,\n 2.685275074566619,\n {'was_impossible': False},\n 1,\n 2429,\n None,\n 3.165851513139711,\n {'was_impossible': False},\n 1,\n 381,\n None,\n 3.327953377237728,\n {'was_impossible': False},\n 1,\n 2431,\n None,\n 3.1749279792857825,\n {'was_impossible': False},\n 1,\n 382,\n None,\n 3.0098637521450833,\n {'was_impossible': False},\n 1,\n 2433,\n None,\n 3.6599103735265794,\n {'was_impossible': False},\n 1,\n 2436,\n None,\n 3.6472639705315673,\n {'was_impossible': False},\n 1,\n 2437,\n None,\n 3.646933111473889,\n {'was_impossible': False},\n 1,\n 393,\n None,\n 2.180905760966294,\n {'was_impossible': False},\n 1,\n 2442,\n None,\n 3.8980540208669145,\n {'was_impossible': False},\n 1,\n 2447,\n None,\n 3.4180865063696686,\n {'was_impossible': False},\n 1,\n 2454,\n None,\n 3.3842605048011762,\n {'was_impossible': False},\n 1,\n 2455,\n None,\n 3.4463397288759965,\n {'was_impossible': False},\n 1,\n 410,\n None,\n 2.9910941105028117,\n {'was_impossible': False},\n 1,\n 2459,\n None,\n 2.920439644890292,\n {'was_impossible': False},\n 1,\n 413,\n None,\n 2.7483377987850517,\n {'was_impossible': False},\n 1,\n 2462,\n None,\n 2.100795639429193,\n {'was_impossible': False},\n 1,\n 2467,\n None,\n 3.952117826006659,\n {'was_impossible': False},\n 1,\n 420,\n None,\n 2.574878411957636,\n {'was_impossible': False},\n 1,\n 2469,\n None,\n 3.194208355624967,\n {'was_impossible': False},\n 1,\n 2470,\n None,\n 3.684364303056402,\n {'was_impossible': False},\n 1,\n 419,\n None,\n 2.3351289332951617,\n {'was_impossible': False},\n 1,\n 2474,\n None,\n 3.708814312188428,\n {'was_impossible': False},\n 1,\n 428,\n None,\n 4.090991339573303,\n {'was_impossible': False},\n 1,\n 2478,\n None,\n 3.4182068028948382,\n {'was_impossible': False},\n 1,\n 434,\n None,\n 3.5237869424010713,\n {'was_impossible': False},\n 1,\n 435,\n None,\n 2.4701688200918217,\n {'was_impossible': False},\n 1,\n 436,\n None,\n 2.727167400314234,\n {'was_impossible': False},\n 1,\n 2490,\n None,\n 3.636780988602127,\n {'was_impossible': False},\n 1,\n 442,\n None,\n 2.9272784012004087,\n {'was_impossible': False},\n 1,\n 448,\n None,\n 3.674110499700059,\n {'was_impossible': False},\n ...]"
     },
     "metadata": {},
     "output_type": "execute_result",
     "execution_count": 53
    }
   ],
   "source": [
    "# 0 is the user\n",
    "# 1 is the item id\n",
    "# 3 is the prediction\n",
    "predictions"
   ],
   "metadata": {
    "collapsed": false,
    "pycharm": {
     "name": "#%%\n",
     "is_executing": false
    }
   }
  },
  {
   "cell_type": "code",
   "execution_count": 54,
   "outputs": [],
   "source": [
    "# Cut the string into each individual prediction\n",
    "ind_pred = []\n",
    "for i in range(0, len(predictions), 5):\n",
    "    ind_pred.append(predictions[i:i + 5])\n",
    "        "
   ],
   "metadata": {
    "collapsed": false,
    "pycharm": {
     "name": "#%%\n",
     "is_executing": false
    }
   }
  },
  {
   "cell_type": "code",
   "execution_count": 55,
   "outputs": [],
   "source": [
    "columns = [\"userID\", \"itemID\", \"none\", \"predEst\", \"impossible\"]\n",
    "df = pd.DataFrame(ind_pred , columns=columns)"
   ],
   "metadata": {
    "collapsed": false,
    "pycharm": {
     "name": "#%%\n",
     "is_executing": false
    }
   }
  },
  {
   "cell_type": "code",
   "execution_count": 56,
   "outputs": [
    {
     "data": {
      "text/plain": "         userID  itemID  none   predEst                 impossible\n1690864   12073    1148  None  4.358928  {'was_impossible': False}\n1690629   12073     608  None  4.266238  {'was_impossible': False}\n1690711   12073     858  None  4.232650  {'was_impossible': False}\n1690908   12073    1240  None  4.201220  {'was_impossible': False}\n1690466   12073     260  None  4.194182  {'was_impossible': False}\n1690666   12073    2762  None  4.190969  {'was_impossible': False}\n1690812   12073    3091  None  4.169999  {'was_impossible': False}\n1690890   12073    1207  None  4.118689  {'was_impossible': False}\n1690595   12073     541  None  4.097803  {'was_impossible': False}\n1690878   12073    1196  None  4.095246  {'was_impossible': False}\n1690487   12073     318  None  4.075739  {'was_impossible': False}\n1690877   12073    1193  None  4.073984  {'was_impossible': False}\n1690682   12073     750  None  4.071376  {'was_impossible': False}\n1690748   12073     924  None  4.058744  {'was_impossible': False}\n1690997   12073    3471  None  4.053628  {'was_impossible': False}\n1691174   12073    1949  None  4.032778  {'was_impossible': False}\n1690437   12073    2248  None  4.027832  {'was_impossible': False}\n1690915   12073    1252  None  4.018811  {'was_impossible': False}\n1690865   12073    3196  None  4.018651  {'was_impossible': False}\n1690661   12073    2726  None  4.017461  {'was_impossible': False}\n1691057   12073    1617  None  4.012222  {'was_impossible': False}\n1690734   12073     908  None  4.010034  {'was_impossible': False}\n1690880   12073    1198  None  4.006069  {'was_impossible': False}\n1690979   12073    3435  None  3.986500  {'was_impossible': False}\n1690699   12073    2858  None  3.984442  {'was_impossible': False}\n1690730   12073     903  None  3.969028  {'was_impossible': False}\n1690731   12073     904  None  3.960998  {'was_impossible': False}\n1690773   12073    3030  None  3.954313  {'was_impossible': False}\n1690415   12073    2186  None  3.953179  {'was_impossible': False}\n1690833   12073    1086  None  3.951257  {'was_impossible': False}\n...         ...     ...   ...       ...                        ...\n791           1    3919  None  2.446087  {'was_impossible': False}\n770           1    1772  None  2.435605  {'was_impossible': False}\n346           1     833  None  2.425802  {'was_impossible': False}\n689           1    3646  None  2.417746  {'was_impossible': False}\n98            1    2296  None  2.412538  {'was_impossible': False}\n585           1    3354  None  2.399838  {'was_impossible': False}\n299           1    2723  None  2.395907  {'was_impossible': False}\n120           1    2338  None  2.390764  {'was_impossible': False}\n768           1    1760  None  2.344774  {'was_impossible': False}\n80            1    2253  None  2.335979  {'was_impossible': False}\n190           1     419  None  2.335129  {'was_impossible': False}\n144           1    2392  None  2.301030  {'was_impossible': False}\n702           1    1623  None  2.292483  {'was_impossible': False}\n363           1     891  None  2.291363  {'was_impossible': False}\n286           1    2701  None  2.288263  {'was_impossible': False}\n325           1    2808  None  2.285701  {'was_impossible': False}\n315           1     737  None  2.269572  {'was_impossible': False}\n39            1      93  None  2.236943  {'was_impossible': False}\n29            1    2119  None  2.225727  {'was_impossible': False}\n1             1    2053  None  2.224115  {'was_impossible': False}\n596           1    3390  None  2.218116  {'was_impossible': False}\n177           1     393  None  2.180906  {'was_impossible': False}\n269           1    2643  None  2.177550  {'was_impossible': False}\n832           1    1985  None  2.140680  {'was_impossible': False}\n165           1     374  None  2.101518  {'was_impossible': False}\n185           1    2462  None  2.100796  {'was_impossible': False}\n624           1    3439  None  1.888471  {'was_impossible': False}\n828           1    1976  None  1.844583  {'was_impossible': False}\n238           1     546  None  1.823548  {'was_impossible': False}\n221           1    2555  None  1.775514  {'was_impossible': False}\n\n[1691208 rows x 5 columns]",
      "text/html": "<div>\n<style scoped>\n    .dataframe tbody tr th:only-of-type {\n        vertical-align: middle;\n    }\n\n    .dataframe tbody tr th {\n        vertical-align: top;\n    }\n\n    .dataframe thead th {\n        text-align: right;\n    }\n</style>\n<table border=\"1\" class=\"dataframe\">\n  <thead>\n    <tr style=\"text-align: right;\">\n      <th></th>\n      <th>userID</th>\n      <th>itemID</th>\n      <th>none</th>\n      <th>predEst</th>\n      <th>impossible</th>\n    </tr>\n  </thead>\n  <tbody>\n    <tr>\n      <th>1690864</th>\n      <td>12073</td>\n      <td>1148</td>\n      <td>None</td>\n      <td>4.358928</td>\n      <td>{'was_impossible': False}</td>\n    </tr>\n    <tr>\n      <th>1690629</th>\n      <td>12073</td>\n      <td>608</td>\n      <td>None</td>\n      <td>4.266238</td>\n      <td>{'was_impossible': False}</td>\n    </tr>\n    <tr>\n      <th>1690711</th>\n      <td>12073</td>\n      <td>858</td>\n      <td>None</td>\n      <td>4.232650</td>\n      <td>{'was_impossible': False}</td>\n    </tr>\n    <tr>\n      <th>1690908</th>\n      <td>12073</td>\n      <td>1240</td>\n      <td>None</td>\n      <td>4.201220</td>\n      <td>{'was_impossible': False}</td>\n    </tr>\n    <tr>\n      <th>1690466</th>\n      <td>12073</td>\n      <td>260</td>\n      <td>None</td>\n      <td>4.194182</td>\n      <td>{'was_impossible': False}</td>\n    </tr>\n    <tr>\n      <th>1690666</th>\n      <td>12073</td>\n      <td>2762</td>\n      <td>None</td>\n      <td>4.190969</td>\n      <td>{'was_impossible': False}</td>\n    </tr>\n    <tr>\n      <th>1690812</th>\n      <td>12073</td>\n      <td>3091</td>\n      <td>None</td>\n      <td>4.169999</td>\n      <td>{'was_impossible': False}</td>\n    </tr>\n    <tr>\n      <th>1690890</th>\n      <td>12073</td>\n      <td>1207</td>\n      <td>None</td>\n      <td>4.118689</td>\n      <td>{'was_impossible': False}</td>\n    </tr>\n    <tr>\n      <th>1690595</th>\n      <td>12073</td>\n      <td>541</td>\n      <td>None</td>\n      <td>4.097803</td>\n      <td>{'was_impossible': False}</td>\n    </tr>\n    <tr>\n      <th>1690878</th>\n      <td>12073</td>\n      <td>1196</td>\n      <td>None</td>\n      <td>4.095246</td>\n      <td>{'was_impossible': False}</td>\n    </tr>\n    <tr>\n      <th>1690487</th>\n      <td>12073</td>\n      <td>318</td>\n      <td>None</td>\n      <td>4.075739</td>\n      <td>{'was_impossible': False}</td>\n    </tr>\n    <tr>\n      <th>1690877</th>\n      <td>12073</td>\n      <td>1193</td>\n      <td>None</td>\n      <td>4.073984</td>\n      <td>{'was_impossible': False}</td>\n    </tr>\n    <tr>\n      <th>1690682</th>\n      <td>12073</td>\n      <td>750</td>\n      <td>None</td>\n      <td>4.071376</td>\n      <td>{'was_impossible': False}</td>\n    </tr>\n    <tr>\n      <th>1690748</th>\n      <td>12073</td>\n      <td>924</td>\n      <td>None</td>\n      <td>4.058744</td>\n      <td>{'was_impossible': False}</td>\n    </tr>\n    <tr>\n      <th>1690997</th>\n      <td>12073</td>\n      <td>3471</td>\n      <td>None</td>\n      <td>4.053628</td>\n      <td>{'was_impossible': False}</td>\n    </tr>\n    <tr>\n      <th>1691174</th>\n      <td>12073</td>\n      <td>1949</td>\n      <td>None</td>\n      <td>4.032778</td>\n      <td>{'was_impossible': False}</td>\n    </tr>\n    <tr>\n      <th>1690437</th>\n      <td>12073</td>\n      <td>2248</td>\n      <td>None</td>\n      <td>4.027832</td>\n      <td>{'was_impossible': False}</td>\n    </tr>\n    <tr>\n      <th>1690915</th>\n      <td>12073</td>\n      <td>1252</td>\n      <td>None</td>\n      <td>4.018811</td>\n      <td>{'was_impossible': False}</td>\n    </tr>\n    <tr>\n      <th>1690865</th>\n      <td>12073</td>\n      <td>3196</td>\n      <td>None</td>\n      <td>4.018651</td>\n      <td>{'was_impossible': False}</td>\n    </tr>\n    <tr>\n      <th>1690661</th>\n      <td>12073</td>\n      <td>2726</td>\n      <td>None</td>\n      <td>4.017461</td>\n      <td>{'was_impossible': False}</td>\n    </tr>\n    <tr>\n      <th>1691057</th>\n      <td>12073</td>\n      <td>1617</td>\n      <td>None</td>\n      <td>4.012222</td>\n      <td>{'was_impossible': False}</td>\n    </tr>\n    <tr>\n      <th>1690734</th>\n      <td>12073</td>\n      <td>908</td>\n      <td>None</td>\n      <td>4.010034</td>\n      <td>{'was_impossible': False}</td>\n    </tr>\n    <tr>\n      <th>1690880</th>\n      <td>12073</td>\n      <td>1198</td>\n      <td>None</td>\n      <td>4.006069</td>\n      <td>{'was_impossible': False}</td>\n    </tr>\n    <tr>\n      <th>1690979</th>\n      <td>12073</td>\n      <td>3435</td>\n      <td>None</td>\n      <td>3.986500</td>\n      <td>{'was_impossible': False}</td>\n    </tr>\n    <tr>\n      <th>1690699</th>\n      <td>12073</td>\n      <td>2858</td>\n      <td>None</td>\n      <td>3.984442</td>\n      <td>{'was_impossible': False}</td>\n    </tr>\n    <tr>\n      <th>1690730</th>\n      <td>12073</td>\n      <td>903</td>\n      <td>None</td>\n      <td>3.969028</td>\n      <td>{'was_impossible': False}</td>\n    </tr>\n    <tr>\n      <th>1690731</th>\n      <td>12073</td>\n      <td>904</td>\n      <td>None</td>\n      <td>3.960998</td>\n      <td>{'was_impossible': False}</td>\n    </tr>\n    <tr>\n      <th>1690773</th>\n      <td>12073</td>\n      <td>3030</td>\n      <td>None</td>\n      <td>3.954313</td>\n      <td>{'was_impossible': False}</td>\n    </tr>\n    <tr>\n      <th>1690415</th>\n      <td>12073</td>\n      <td>2186</td>\n      <td>None</td>\n      <td>3.953179</td>\n      <td>{'was_impossible': False}</td>\n    </tr>\n    <tr>\n      <th>1690833</th>\n      <td>12073</td>\n      <td>1086</td>\n      <td>None</td>\n      <td>3.951257</td>\n      <td>{'was_impossible': False}</td>\n    </tr>\n    <tr>\n      <th>...</th>\n      <td>...</td>\n      <td>...</td>\n      <td>...</td>\n      <td>...</td>\n      <td>...</td>\n    </tr>\n    <tr>\n      <th>791</th>\n      <td>1</td>\n      <td>3919</td>\n      <td>None</td>\n      <td>2.446087</td>\n      <td>{'was_impossible': False}</td>\n    </tr>\n    <tr>\n      <th>770</th>\n      <td>1</td>\n      <td>1772</td>\n      <td>None</td>\n      <td>2.435605</td>\n      <td>{'was_impossible': False}</td>\n    </tr>\n    <tr>\n      <th>346</th>\n      <td>1</td>\n      <td>833</td>\n      <td>None</td>\n      <td>2.425802</td>\n      <td>{'was_impossible': False}</td>\n    </tr>\n    <tr>\n      <th>689</th>\n      <td>1</td>\n      <td>3646</td>\n      <td>None</td>\n      <td>2.417746</td>\n      <td>{'was_impossible': False}</td>\n    </tr>\n    <tr>\n      <th>98</th>\n      <td>1</td>\n      <td>2296</td>\n      <td>None</td>\n      <td>2.412538</td>\n      <td>{'was_impossible': False}</td>\n    </tr>\n    <tr>\n      <th>585</th>\n      <td>1</td>\n      <td>3354</td>\n      <td>None</td>\n      <td>2.399838</td>\n      <td>{'was_impossible': False}</td>\n    </tr>\n    <tr>\n      <th>299</th>\n      <td>1</td>\n      <td>2723</td>\n      <td>None</td>\n      <td>2.395907</td>\n      <td>{'was_impossible': False}</td>\n    </tr>\n    <tr>\n      <th>120</th>\n      <td>1</td>\n      <td>2338</td>\n      <td>None</td>\n      <td>2.390764</td>\n      <td>{'was_impossible': False}</td>\n    </tr>\n    <tr>\n      <th>768</th>\n      <td>1</td>\n      <td>1760</td>\n      <td>None</td>\n      <td>2.344774</td>\n      <td>{'was_impossible': False}</td>\n    </tr>\n    <tr>\n      <th>80</th>\n      <td>1</td>\n      <td>2253</td>\n      <td>None</td>\n      <td>2.335979</td>\n      <td>{'was_impossible': False}</td>\n    </tr>\n    <tr>\n      <th>190</th>\n      <td>1</td>\n      <td>419</td>\n      <td>None</td>\n      <td>2.335129</td>\n      <td>{'was_impossible': False}</td>\n    </tr>\n    <tr>\n      <th>144</th>\n      <td>1</td>\n      <td>2392</td>\n      <td>None</td>\n      <td>2.301030</td>\n      <td>{'was_impossible': False}</td>\n    </tr>\n    <tr>\n      <th>702</th>\n      <td>1</td>\n      <td>1623</td>\n      <td>None</td>\n      <td>2.292483</td>\n      <td>{'was_impossible': False}</td>\n    </tr>\n    <tr>\n      <th>363</th>\n      <td>1</td>\n      <td>891</td>\n      <td>None</td>\n      <td>2.291363</td>\n      <td>{'was_impossible': False}</td>\n    </tr>\n    <tr>\n      <th>286</th>\n      <td>1</td>\n      <td>2701</td>\n      <td>None</td>\n      <td>2.288263</td>\n      <td>{'was_impossible': False}</td>\n    </tr>\n    <tr>\n      <th>325</th>\n      <td>1</td>\n      <td>2808</td>\n      <td>None</td>\n      <td>2.285701</td>\n      <td>{'was_impossible': False}</td>\n    </tr>\n    <tr>\n      <th>315</th>\n      <td>1</td>\n      <td>737</td>\n      <td>None</td>\n      <td>2.269572</td>\n      <td>{'was_impossible': False}</td>\n    </tr>\n    <tr>\n      <th>39</th>\n      <td>1</td>\n      <td>93</td>\n      <td>None</td>\n      <td>2.236943</td>\n      <td>{'was_impossible': False}</td>\n    </tr>\n    <tr>\n      <th>29</th>\n      <td>1</td>\n      <td>2119</td>\n      <td>None</td>\n      <td>2.225727</td>\n      <td>{'was_impossible': False}</td>\n    </tr>\n    <tr>\n      <th>1</th>\n      <td>1</td>\n      <td>2053</td>\n      <td>None</td>\n      <td>2.224115</td>\n      <td>{'was_impossible': False}</td>\n    </tr>\n    <tr>\n      <th>596</th>\n      <td>1</td>\n      <td>3390</td>\n      <td>None</td>\n      <td>2.218116</td>\n      <td>{'was_impossible': False}</td>\n    </tr>\n    <tr>\n      <th>177</th>\n      <td>1</td>\n      <td>393</td>\n      <td>None</td>\n      <td>2.180906</td>\n      <td>{'was_impossible': False}</td>\n    </tr>\n    <tr>\n      <th>269</th>\n      <td>1</td>\n      <td>2643</td>\n      <td>None</td>\n      <td>2.177550</td>\n      <td>{'was_impossible': False}</td>\n    </tr>\n    <tr>\n      <th>832</th>\n      <td>1</td>\n      <td>1985</td>\n      <td>None</td>\n      <td>2.140680</td>\n      <td>{'was_impossible': False}</td>\n    </tr>\n    <tr>\n      <th>165</th>\n      <td>1</td>\n      <td>374</td>\n      <td>None</td>\n      <td>2.101518</td>\n      <td>{'was_impossible': False}</td>\n    </tr>\n    <tr>\n      <th>185</th>\n      <td>1</td>\n      <td>2462</td>\n      <td>None</td>\n      <td>2.100796</td>\n      <td>{'was_impossible': False}</td>\n    </tr>\n    <tr>\n      <th>624</th>\n      <td>1</td>\n      <td>3439</td>\n      <td>None</td>\n      <td>1.888471</td>\n      <td>{'was_impossible': False}</td>\n    </tr>\n    <tr>\n      <th>828</th>\n      <td>1</td>\n      <td>1976</td>\n      <td>None</td>\n      <td>1.844583</td>\n      <td>{'was_impossible': False}</td>\n    </tr>\n    <tr>\n      <th>238</th>\n      <td>1</td>\n      <td>546</td>\n      <td>None</td>\n      <td>1.823548</td>\n      <td>{'was_impossible': False}</td>\n    </tr>\n    <tr>\n      <th>221</th>\n      <td>1</td>\n      <td>2555</td>\n      <td>None</td>\n      <td>1.775514</td>\n      <td>{'was_impossible': False}</td>\n    </tr>\n  </tbody>\n</table>\n<p>1691208 rows × 5 columns</p>\n</div>"
     },
     "metadata": {},
     "output_type": "execute_result",
     "execution_count": 56
    }
   ],
   "source": [
    "# dataframe containing all individual rating estimations.\n",
    "df = df.sort_values(by=['userID','predEst'], ascending=False)\n",
    "df"
   ],
   "metadata": {
    "collapsed": false,
    "pycharm": {
     "name": "#%%\n",
     "is_executing": false
    }
   }
  },
  {
   "cell_type": "code",
   "execution_count": 57,
   "outputs": [
    {
     "data": {
      "text/plain": "1691208"
     },
     "metadata": {},
     "output_type": "execute_result",
     "execution_count": 57
    }
   ],
   "source": [
    "df = df.iloc[:,0:4]\n",
    "len(df[\"userID\"])"
   ],
   "metadata": {
    "collapsed": false,
    "pycharm": {
     "name": "#%%\n",
     "is_executing": false
    }
   }
  },
  {
   "cell_type": "code",
   "execution_count": 58,
   "outputs": [
    {
     "data": {
      "text/plain": "         userID  itemID  none   predEst\n1690864   12073    1148  None  4.358928\n1690629   12073     608  None  4.266238\n1690711   12073     858  None  4.232650\n1690908   12073    1240  None  4.201220\n1690466   12073     260  None  4.194182\n1690666   12073    2762  None  4.190969\n1690812   12073    3091  None  4.169999\n1690890   12073    1207  None  4.118689\n1690595   12073     541  None  4.097803\n1690878   12073    1196  None  4.095246",
      "text/html": "<div>\n<style scoped>\n    .dataframe tbody tr th:only-of-type {\n        vertical-align: middle;\n    }\n\n    .dataframe tbody tr th {\n        vertical-align: top;\n    }\n\n    .dataframe thead th {\n        text-align: right;\n    }\n</style>\n<table border=\"1\" class=\"dataframe\">\n  <thead>\n    <tr style=\"text-align: right;\">\n      <th></th>\n      <th>userID</th>\n      <th>itemID</th>\n      <th>none</th>\n      <th>predEst</th>\n    </tr>\n  </thead>\n  <tbody>\n    <tr>\n      <th>1690864</th>\n      <td>12073</td>\n      <td>1148</td>\n      <td>None</td>\n      <td>4.358928</td>\n    </tr>\n    <tr>\n      <th>1690629</th>\n      <td>12073</td>\n      <td>608</td>\n      <td>None</td>\n      <td>4.266238</td>\n    </tr>\n    <tr>\n      <th>1690711</th>\n      <td>12073</td>\n      <td>858</td>\n      <td>None</td>\n      <td>4.232650</td>\n    </tr>\n    <tr>\n      <th>1690908</th>\n      <td>12073</td>\n      <td>1240</td>\n      <td>None</td>\n      <td>4.201220</td>\n    </tr>\n    <tr>\n      <th>1690466</th>\n      <td>12073</td>\n      <td>260</td>\n      <td>None</td>\n      <td>4.194182</td>\n    </tr>\n    <tr>\n      <th>1690666</th>\n      <td>12073</td>\n      <td>2762</td>\n      <td>None</td>\n      <td>4.190969</td>\n    </tr>\n    <tr>\n      <th>1690812</th>\n      <td>12073</td>\n      <td>3091</td>\n      <td>None</td>\n      <td>4.169999</td>\n    </tr>\n    <tr>\n      <th>1690890</th>\n      <td>12073</td>\n      <td>1207</td>\n      <td>None</td>\n      <td>4.118689</td>\n    </tr>\n    <tr>\n      <th>1690595</th>\n      <td>12073</td>\n      <td>541</td>\n      <td>None</td>\n      <td>4.097803</td>\n    </tr>\n    <tr>\n      <th>1690878</th>\n      <td>12073</td>\n      <td>1196</td>\n      <td>None</td>\n      <td>4.095246</td>\n    </tr>\n  </tbody>\n</table>\n</div>"
     },
     "metadata": {},
     "output_type": "execute_result",
     "execution_count": 58
    }
   ],
   "source": [
    "# make a list of all top 10s\n",
    "top10 = []\n",
    "for i in range(0, len(df[\"userID\"]), len(items_set)):\n",
    "    top10.append(df[i:i+10])\n",
    "\n",
    "top10[0]"
   ],
   "metadata": {
    "collapsed": false,
    "pycharm": {
     "name": "#%%\n",
     "is_executing": false
    }
   }
  },
  {
   "cell_type": "code",
   "execution_count": 59,
   "outputs": [
    {
     "data": {
      "text/plain": "Empty DataFrame\nColumns: [userID, recommended_itemIDs]\nIndex: []",
      "text/html": "<div>\n<style scoped>\n    .dataframe tbody tr th:only-of-type {\n        vertical-align: middle;\n    }\n\n    .dataframe tbody tr th {\n        vertical-align: top;\n    }\n\n    .dataframe thead th {\n        text-align: right;\n    }\n</style>\n<table border=\"1\" class=\"dataframe\">\n  <thead>\n    <tr style=\"text-align: right;\">\n      <th></th>\n      <th>userID</th>\n      <th>recommended_itemIDs</th>\n    </tr>\n  </thead>\n  <tbody>\n  </tbody>\n</table>\n</div>"
     },
     "metadata": {},
     "output_type": "execute_result",
     "execution_count": 59
    }
   ],
   "source": [
    "# User ID and 10 Item IDs\n",
    "cols = [\"userID\", \"recommended_itemIDs\"]\n",
    "top10_df = pd.DataFrame(columns = cols)\n",
    "\n",
    "top10_df.iloc[:,0:2]"
   ],
   "metadata": {
    "collapsed": false,
    "pycharm": {
     "name": "#%%\n",
     "is_executing": false
    }
   }
  },
  {
   "cell_type": "code",
   "execution_count": 60,
   "outputs": [],
   "source": [
    "#---------TESTING\n",
    "value = top10[0].iloc[2]['userID']"
   ],
   "metadata": {
    "collapsed": false,
    "pycharm": {
     "name": "#%%\n",
     "is_executing": false
    }
   }
  },
  {
   "cell_type": "code",
   "execution_count": 61,
   "outputs": [],
   "source": [
    "items_string = \"\"\n",
    "items_str_list = []\n",
    "users_list = []\n",
    "for elem in top10:\n",
    "    list_items = elem[\"itemID\"].tolist()\n",
    "    string_items = str(list_items).strip('[]').replace(\",\", \" \")\n",
    "    items_str_list.append(string_items)\n",
    "    users_list.append(elem.iloc[2]['userID'])\n"
   ],
   "metadata": {
    "collapsed": false,
    "pycharm": {
     "name": "#%%\n",
     "is_executing": false
    }
   }
  },
  {
   "cell_type": "code",
   "execution_count": 62,
   "outputs": [],
   "source": [
    "top10_df[\"recommended_itemIDs\"] = items_str_list\n",
    "top10_df[\"userID\"] = users_list"
   ],
   "metadata": {
    "collapsed": false,
    "pycharm": {
     "name": "#%%\n",
     "is_executing": false
    }
   }
  },
  {
   "cell_type": "code",
   "execution_count": 65,
   "outputs": [],
   "source": [
    "top10 = top10_df.sort_values(\"userID\")\n",
    "top10_df.to_csv(\"../data/competition.csv\", index=False)"
   ],
   "metadata": {
    "collapsed": false,
    "pycharm": {
     "name": "#%%\n",
     "is_executing": false
    }
   }
  },
  {
   "cell_type": "code",
   "execution_count": 64,
   "outputs": [
    {
     "data": {
      "text/plain": "      userID                                recommended_itemIDs\n0      12073  1148  608  858  1240  260  2762  3091  1207  5...\n1      12063  913  912  858  750  904  1207  2324  908  898 ...\n2      12061  912  608  926  904  913  1207  1307  1682  119...\n3      12051  750  608  318  260  593  2997  908  1148  3091...\n4      12047  2329  1949  2324  1223  1207  318  3435  908  ...\n5      12043  318  246  1207  858  2762  1148  1949  904  34...\n6      12037  750  593  318  913  2959  1206  2997  2692  91...\n7      12031  858  2858  923  912  608  593  1299  2692  303...\n8      12029  1207  2028  608  318  3091  1136  858  1193  1...\n9      12025  1256  913  1207  912  2997  1148  2731  898  3...\n10     12021  2762  318  1148  457  260  497  2329  1198  95...\n11     12015  2804  1223  913  898  912  750  318  1148  125...\n12     12011  3435  3030  1949  1252  1136  2997  908  904  ...\n13     12009  1196  260  912  2329  913  1223  318  541  119...\n14     12005  2324  750  1207  2329  2186  908  912  2501  3...\n15     11981  608  2396  2858  912  1197  1089  3160  318  3...\n16     11975  919  912  904  1617  926  908  950  260  3435 ...\n17     11973  318  750  912  1148  1136  913  3030  904  924...\n18     11965  924  2858  858  593  2762  1089  1617  1247  9...\n19     11961  593  1207  318  1148  1193  912  908  858  343...\n20     11955  318  2396  2324  1198  150  1234  1254  1207  ...\n21     11941  908  318  2788  2762  2791  593  1234  898  91...\n22     11939  2324  750  858  912  1207  2028  608  1148  28...\n23     11933  318  858  1234  904  1198  2028  593  1213  89...\n24     11931  1193  1387  1207  953  919  2804  1304  912  9...\n25     11919  953  1207  1234  1300  3091  2396  1193  1148 ...\n26     11909  1198  1387  1207  953  1278  1287  1214  1213 ...\n27     11903  318  2762  2858  858  2959  912  1136  1148  1...\n28     11891  858  318  2324  1927  1198  593  912  2762  92...\n29     11883  1278  912  246  2324  2858  1234  1300  3435  ...\n...      ...                                                ...\n1962     179  1278  1189  1207  904  910  1213  908  1300  1...\n1963     173  1193  910  908  1207  260  858  1213  318  309...\n1964     161  318  912  1193  1207  913  1217  953  858  130...\n1965     159  750  541  1207  912  1234  3629  913  919  955...\n1966     157  1193  1148  3091  908  318  898  541  1945  28...\n1967     139  750  923  2064  2692  1148  1197  1193  2324  ...\n1968     137  2324  608  1207  955  1198  3091  912  1148  7...\n1969     129  260  318  541  2858  904  908  1148  1193  202...\n1970     127  2997  541  898  904  908  1197  926  2186  343...\n1971     125  2858  608  593  2959  2997  3897  318  3435  1...\n1972     119  2028  589  318  1198  260  1193  3091  1207  2...\n1973     117  953  2858  1223  2028  858  919  1299  1148  5...\n1974      97  913  912  1193  858  3435  2329  750  2762  12...\n1975      91  2064  260  265  2324  2329  318  2396  541  26...\n1976      89  318  260  1198  908  1291  2762  246  2028  11...\n1977      85  912  318  1207  750  2324  111  3435  541  232...\n1978      79  858  904  1252  924  608  1214  913  908  1276...\n1979      73  912  913  260  1254  858  1196  318  1148  218...\n1980      67  260  2324  318  608  858  904  3000  3030  314...\n1981      57  2028  1214  1193  912  1200  1089  1218  1219 ...\n1982      55  260  1223  1197  1148  912  1196  2726  913  2...\n1983      53  858  1223  260  1198  1197  1148  1207  2324  ...\n1984      51  908  919  3091  904  858  2731  1254  1207  92...\n1985      35  246  858  923  1207  1252  3030  1256  1223  1...\n1986      33  260  318  593  2762  858  904  908  910  3091 ...\n1987      31  2762  318  1148  1136  2396  750  2700  858  1...\n1988      29  2329  2762  1148  3435  858  318  260  1196  3...\n1989      11  2762  919  953  260  912  1148  593  1207  318...\n1990       3  260  1196  2324  1148  318  1223  2762  1198  ...\n1991       1  260  1196  318  1198  858  1193  1213  912  16...\n\n[1992 rows x 2 columns]",
      "text/html": "<div>\n<style scoped>\n    .dataframe tbody tr th:only-of-type {\n        vertical-align: middle;\n    }\n\n    .dataframe tbody tr th {\n        vertical-align: top;\n    }\n\n    .dataframe thead th {\n        text-align: right;\n    }\n</style>\n<table border=\"1\" class=\"dataframe\">\n  <thead>\n    <tr style=\"text-align: right;\">\n      <th></th>\n      <th>userID</th>\n      <th>recommended_itemIDs</th>\n    </tr>\n  </thead>\n  <tbody>\n    <tr>\n      <th>0</th>\n      <td>12073</td>\n      <td>1148  608  858  1240  260  2762  3091  1207  5...</td>\n    </tr>\n    <tr>\n      <th>1</th>\n      <td>12063</td>\n      <td>913  912  858  750  904  1207  2324  908  898 ...</td>\n    </tr>\n    <tr>\n      <th>2</th>\n      <td>12061</td>\n      <td>912  608  926  904  913  1207  1307  1682  119...</td>\n    </tr>\n    <tr>\n      <th>3</th>\n      <td>12051</td>\n      <td>750  608  318  260  593  2997  908  1148  3091...</td>\n    </tr>\n    <tr>\n      <th>4</th>\n      <td>12047</td>\n      <td>2329  1949  2324  1223  1207  318  3435  908  ...</td>\n    </tr>\n    <tr>\n      <th>5</th>\n      <td>12043</td>\n      <td>318  246  1207  858  2762  1148  1949  904  34...</td>\n    </tr>\n    <tr>\n      <th>6</th>\n      <td>12037</td>\n      <td>750  593  318  913  2959  1206  2997  2692  91...</td>\n    </tr>\n    <tr>\n      <th>7</th>\n      <td>12031</td>\n      <td>858  2858  923  912  608  593  1299  2692  303...</td>\n    </tr>\n    <tr>\n      <th>8</th>\n      <td>12029</td>\n      <td>1207  2028  608  318  3091  1136  858  1193  1...</td>\n    </tr>\n    <tr>\n      <th>9</th>\n      <td>12025</td>\n      <td>1256  913  1207  912  2997  1148  2731  898  3...</td>\n    </tr>\n    <tr>\n      <th>10</th>\n      <td>12021</td>\n      <td>2762  318  1148  457  260  497  2329  1198  95...</td>\n    </tr>\n    <tr>\n      <th>11</th>\n      <td>12015</td>\n      <td>2804  1223  913  898  912  750  318  1148  125...</td>\n    </tr>\n    <tr>\n      <th>12</th>\n      <td>12011</td>\n      <td>3435  3030  1949  1252  1136  2997  908  904  ...</td>\n    </tr>\n    <tr>\n      <th>13</th>\n      <td>12009</td>\n      <td>1196  260  912  2329  913  1223  318  541  119...</td>\n    </tr>\n    <tr>\n      <th>14</th>\n      <td>12005</td>\n      <td>2324  750  1207  2329  2186  908  912  2501  3...</td>\n    </tr>\n    <tr>\n      <th>15</th>\n      <td>11981</td>\n      <td>608  2396  2858  912  1197  1089  3160  318  3...</td>\n    </tr>\n    <tr>\n      <th>16</th>\n      <td>11975</td>\n      <td>919  912  904  1617  926  908  950  260  3435 ...</td>\n    </tr>\n    <tr>\n      <th>17</th>\n      <td>11973</td>\n      <td>318  750  912  1148  1136  913  3030  904  924...</td>\n    </tr>\n    <tr>\n      <th>18</th>\n      <td>11965</td>\n      <td>924  2858  858  593  2762  1089  1617  1247  9...</td>\n    </tr>\n    <tr>\n      <th>19</th>\n      <td>11961</td>\n      <td>593  1207  318  1148  1193  912  908  858  343...</td>\n    </tr>\n    <tr>\n      <th>20</th>\n      <td>11955</td>\n      <td>318  2396  2324  1198  150  1234  1254  1207  ...</td>\n    </tr>\n    <tr>\n      <th>21</th>\n      <td>11941</td>\n      <td>908  318  2788  2762  2791  593  1234  898  91...</td>\n    </tr>\n    <tr>\n      <th>22</th>\n      <td>11939</td>\n      <td>2324  750  858  912  1207  2028  608  1148  28...</td>\n    </tr>\n    <tr>\n      <th>23</th>\n      <td>11933</td>\n      <td>318  858  1234  904  1198  2028  593  1213  89...</td>\n    </tr>\n    <tr>\n      <th>24</th>\n      <td>11931</td>\n      <td>1193  1387  1207  953  919  2804  1304  912  9...</td>\n    </tr>\n    <tr>\n      <th>25</th>\n      <td>11919</td>\n      <td>953  1207  1234  1300  3091  2396  1193  1148 ...</td>\n    </tr>\n    <tr>\n      <th>26</th>\n      <td>11909</td>\n      <td>1198  1387  1207  953  1278  1287  1214  1213 ...</td>\n    </tr>\n    <tr>\n      <th>27</th>\n      <td>11903</td>\n      <td>318  2762  2858  858  2959  912  1136  1148  1...</td>\n    </tr>\n    <tr>\n      <th>28</th>\n      <td>11891</td>\n      <td>858  318  2324  1927  1198  593  912  2762  92...</td>\n    </tr>\n    <tr>\n      <th>29</th>\n      <td>11883</td>\n      <td>1278  912  246  2324  2858  1234  1300  3435  ...</td>\n    </tr>\n    <tr>\n      <th>...</th>\n      <td>...</td>\n      <td>...</td>\n    </tr>\n    <tr>\n      <th>1962</th>\n      <td>179</td>\n      <td>1278  1189  1207  904  910  1213  908  1300  1...</td>\n    </tr>\n    <tr>\n      <th>1963</th>\n      <td>173</td>\n      <td>1193  910  908  1207  260  858  1213  318  309...</td>\n    </tr>\n    <tr>\n      <th>1964</th>\n      <td>161</td>\n      <td>318  912  1193  1207  913  1217  953  858  130...</td>\n    </tr>\n    <tr>\n      <th>1965</th>\n      <td>159</td>\n      <td>750  541  1207  912  1234  3629  913  919  955...</td>\n    </tr>\n    <tr>\n      <th>1966</th>\n      <td>157</td>\n      <td>1193  1148  3091  908  318  898  541  1945  28...</td>\n    </tr>\n    <tr>\n      <th>1967</th>\n      <td>139</td>\n      <td>750  923  2064  2692  1148  1197  1193  2324  ...</td>\n    </tr>\n    <tr>\n      <th>1968</th>\n      <td>137</td>\n      <td>2324  608  1207  955  1198  3091  912  1148  7...</td>\n    </tr>\n    <tr>\n      <th>1969</th>\n      <td>129</td>\n      <td>260  318  541  2858  904  908  1148  1193  202...</td>\n    </tr>\n    <tr>\n      <th>1970</th>\n      <td>127</td>\n      <td>2997  541  898  904  908  1197  926  2186  343...</td>\n    </tr>\n    <tr>\n      <th>1971</th>\n      <td>125</td>\n      <td>2858  608  593  2959  2997  3897  318  3435  1...</td>\n    </tr>\n    <tr>\n      <th>1972</th>\n      <td>119</td>\n      <td>2028  589  318  1198  260  1193  3091  1207  2...</td>\n    </tr>\n    <tr>\n      <th>1973</th>\n      <td>117</td>\n      <td>953  2858  1223  2028  858  919  1299  1148  5...</td>\n    </tr>\n    <tr>\n      <th>1974</th>\n      <td>97</td>\n      <td>913  912  1193  858  3435  2329  750  2762  12...</td>\n    </tr>\n    <tr>\n      <th>1975</th>\n      <td>91</td>\n      <td>2064  260  265  2324  2329  318  2396  541  26...</td>\n    </tr>\n    <tr>\n      <th>1976</th>\n      <td>89</td>\n      <td>318  260  1198  908  1291  2762  246  2028  11...</td>\n    </tr>\n    <tr>\n      <th>1977</th>\n      <td>85</td>\n      <td>912  318  1207  750  2324  111  3435  541  232...</td>\n    </tr>\n    <tr>\n      <th>1978</th>\n      <td>79</td>\n      <td>858  904  1252  924  608  1214  913  908  1276...</td>\n    </tr>\n    <tr>\n      <th>1979</th>\n      <td>73</td>\n      <td>912  913  260  1254  858  1196  318  1148  218...</td>\n    </tr>\n    <tr>\n      <th>1980</th>\n      <td>67</td>\n      <td>260  2324  318  608  858  904  3000  3030  314...</td>\n    </tr>\n    <tr>\n      <th>1981</th>\n      <td>57</td>\n      <td>2028  1214  1193  912  1200  1089  1218  1219 ...</td>\n    </tr>\n    <tr>\n      <th>1982</th>\n      <td>55</td>\n      <td>260  1223  1197  1148  912  1196  2726  913  2...</td>\n    </tr>\n    <tr>\n      <th>1983</th>\n      <td>53</td>\n      <td>858  1223  260  1198  1197  1148  1207  2324  ...</td>\n    </tr>\n    <tr>\n      <th>1984</th>\n      <td>51</td>\n      <td>908  919  3091  904  858  2731  1254  1207  92...</td>\n    </tr>\n    <tr>\n      <th>1985</th>\n      <td>35</td>\n      <td>246  858  923  1207  1252  3030  1256  1223  1...</td>\n    </tr>\n    <tr>\n      <th>1986</th>\n      <td>33</td>\n      <td>260  318  593  2762  858  904  908  910  3091 ...</td>\n    </tr>\n    <tr>\n      <th>1987</th>\n      <td>31</td>\n      <td>2762  318  1148  1136  2396  750  2700  858  1...</td>\n    </tr>\n    <tr>\n      <th>1988</th>\n      <td>29</td>\n      <td>2329  2762  1148  3435  858  318  260  1196  3...</td>\n    </tr>\n    <tr>\n      <th>1989</th>\n      <td>11</td>\n      <td>2762  919  953  260  912  1148  593  1207  318...</td>\n    </tr>\n    <tr>\n      <th>1990</th>\n      <td>3</td>\n      <td>260  1196  2324  1148  318  1223  2762  1198  ...</td>\n    </tr>\n    <tr>\n      <th>1991</th>\n      <td>1</td>\n      <td>260  1196  318  1198  858  1193  1213  912  16...</td>\n    </tr>\n  </tbody>\n</table>\n<p>1992 rows × 2 columns</p>\n</div>"
     },
     "metadata": {},
     "output_type": "execute_result",
     "execution_count": 64
    }
   ],
   "source": [
    "top10_df\n"
   ],
   "metadata": {
    "collapsed": false,
    "pycharm": {
     "name": "#%%\n",
     "is_executing": false
    }
   }
  },
  {
   "cell_type": "code",
   "execution_count": 64,
   "outputs": [],
   "source": [
    "\n",
    "\n",
    "\n"
   ],
   "metadata": {
    "collapsed": false,
    "pycharm": {
     "name": "#%%\n",
     "is_executing": false
    }
   }
  }
 ],
 "metadata": {
  "kernelspec": {
   "display_name": "Python 3",
   "language": "python",
   "name": "python3"
  },
  "language_info": {
   "codemirror_mode": {
    "name": "ipython",
    "version": 2
   },
   "file_extension": ".py",
   "mimetype": "text/x-python",
   "name": "python",
   "nbconvert_exporter": "python",
   "pygments_lexer": "ipython2",
   "version": "2.7.6"
  },
  "pycharm": {
   "stem_cell": {
    "cell_type": "raw",
    "source": [],
    "metadata": {
     "collapsed": false
    }
   }
  }
 },
 "nbformat": 4,
 "nbformat_minor": 0
}